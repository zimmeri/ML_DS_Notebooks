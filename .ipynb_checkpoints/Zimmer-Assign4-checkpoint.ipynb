{
 "cells": [
  {
   "cell_type": "markdown",
   "id": "309d4a1d",
   "metadata": {},
   "source": [
    "## 1. [70 pts] By using three classifiers, decision tree, random forest and neural network and at least 2 different hyper-parameter settings for each, generate operating points and plot them on a ROC. Do not hesitate to use/modify the ROC plot code in the module notebook. In case you do not see enough variety in Pd-Pf you might need to work on the classifiers set and/or hyper parameters. And do not hesitate to try hundreds, if necessary, since the ROCis just a natural scatter plot.\n",
    "\n",
    "There was not much differentiation, even after changing the parameters a lot. I reduced the hyperparameters down so that this program does not take a ridiculous amount of time, but it may still take a while for MLP. I use kcross fold and then use my test set for problem 4."
   ]
  },
  {
   "cell_type": "code",
   "execution_count": 1,
   "id": "e7e0d946",
   "metadata": {},
   "outputs": [],
   "source": [
    "%matplotlib inline\n",
    "import pandas as pd\n",
    "import numpy as np\n",
    "import matplotlib.pyplot as plt\n",
    "from sklearn.tree import DecisionTreeClassifier\n",
    "from sklearn.ensemble import RandomForestClassifier\n",
    "from sklearn.feature_extraction.text import TfidfVectorizer\n",
    "from sklearn.metrics import confusion_matrix\n",
    "from sklearn.model_selection import train_test_split\n",
    "from sklearn.pipeline import make_pipeline\n",
    "from sklearn.model_selection import KFold\n",
    "from sklearn.neural_network import MLPClassifier"
   ]
  },
  {
   "cell_type": "code",
   "execution_count": 2,
   "id": "e425a9bb",
   "metadata": {},
   "outputs": [
    {
     "data": {
      "text/html": [
       "<div>\n",
       "<style scoped>\n",
       "    .dataframe tbody tr th:only-of-type {\n",
       "        vertical-align: middle;\n",
       "    }\n",
       "\n",
       "    .dataframe tbody tr th {\n",
       "        vertical-align: top;\n",
       "    }\n",
       "\n",
       "    .dataframe thead th {\n",
       "        text-align: right;\n",
       "    }\n",
       "</style>\n",
       "<table border=\"1\" class=\"dataframe\">\n",
       "  <thead>\n",
       "    <tr style=\"text-align: right;\">\n",
       "      <th></th>\n",
       "      <th>title</th>\n",
       "      <th>text</th>\n",
       "      <th>subject</th>\n",
       "      <th>date</th>\n",
       "      <th>class</th>\n",
       "    </tr>\n",
       "  </thead>\n",
       "  <tbody>\n",
       "    <tr>\n",
       "      <th>0</th>\n",
       "      <td>As U.S. budget fight looms, Republicans flip t...</td>\n",
       "      <td>WASHINGTON (Reuters) - The head of a conservat...</td>\n",
       "      <td>politicsNews</td>\n",
       "      <td>December 31, 2017</td>\n",
       "      <td>0</td>\n",
       "    </tr>\n",
       "    <tr>\n",
       "      <th>1</th>\n",
       "      <td>U.S. military to accept transgender recruits o...</td>\n",
       "      <td>WASHINGTON (Reuters) - Transgender people will...</td>\n",
       "      <td>politicsNews</td>\n",
       "      <td>December 29, 2017</td>\n",
       "      <td>0</td>\n",
       "    </tr>\n",
       "    <tr>\n",
       "      <th>2</th>\n",
       "      <td>Senior U.S. Republican senator: 'Let Mr. Muell...</td>\n",
       "      <td>WASHINGTON (Reuters) - The special counsel inv...</td>\n",
       "      <td>politicsNews</td>\n",
       "      <td>December 31, 2017</td>\n",
       "      <td>0</td>\n",
       "    </tr>\n",
       "    <tr>\n",
       "      <th>3</th>\n",
       "      <td>FBI Russia probe helped by Australian diplomat...</td>\n",
       "      <td>WASHINGTON (Reuters) - Trump campaign adviser ...</td>\n",
       "      <td>politicsNews</td>\n",
       "      <td>December 30, 2017</td>\n",
       "      <td>0</td>\n",
       "    </tr>\n",
       "    <tr>\n",
       "      <th>4</th>\n",
       "      <td>Trump wants Postal Service to charge 'much mor...</td>\n",
       "      <td>SEATTLE/WASHINGTON (Reuters) - President Donal...</td>\n",
       "      <td>politicsNews</td>\n",
       "      <td>December 29, 2017</td>\n",
       "      <td>0</td>\n",
       "    </tr>\n",
       "    <tr>\n",
       "      <th>...</th>\n",
       "      <td>...</td>\n",
       "      <td>...</td>\n",
       "      <td>...</td>\n",
       "      <td>...</td>\n",
       "      <td>...</td>\n",
       "    </tr>\n",
       "    <tr>\n",
       "      <th>44893</th>\n",
       "      <td>McPain: John McCain Furious That Iran Treated ...</td>\n",
       "      <td>21st Century Wire says As 21WIRE reported earl...</td>\n",
       "      <td>Middle-east</td>\n",
       "      <td>January 16, 2016</td>\n",
       "      <td>1</td>\n",
       "    </tr>\n",
       "    <tr>\n",
       "      <th>44894</th>\n",
       "      <td>JUSTICE? Yahoo Settles E-mail Privacy Class-ac...</td>\n",
       "      <td>21st Century Wire says It s a familiar theme. ...</td>\n",
       "      <td>Middle-east</td>\n",
       "      <td>January 16, 2016</td>\n",
       "      <td>1</td>\n",
       "    </tr>\n",
       "    <tr>\n",
       "      <th>44895</th>\n",
       "      <td>Sunnistan: US and Allied ‘Safe Zone’ Plan to T...</td>\n",
       "      <td>Patrick Henningsen  21st Century WireRemember ...</td>\n",
       "      <td>Middle-east</td>\n",
       "      <td>January 15, 2016</td>\n",
       "      <td>1</td>\n",
       "    </tr>\n",
       "    <tr>\n",
       "      <th>44896</th>\n",
       "      <td>How to Blow $700 Million: Al Jazeera America F...</td>\n",
       "      <td>21st Century Wire says Al Jazeera America will...</td>\n",
       "      <td>Middle-east</td>\n",
       "      <td>January 14, 2016</td>\n",
       "      <td>1</td>\n",
       "    </tr>\n",
       "    <tr>\n",
       "      <th>44897</th>\n",
       "      <td>10 U.S. Navy Sailors Held by Iranian Military ...</td>\n",
       "      <td>21st Century Wire says As 21WIRE predicted in ...</td>\n",
       "      <td>Middle-east</td>\n",
       "      <td>January 12, 2016</td>\n",
       "      <td>1</td>\n",
       "    </tr>\n",
       "  </tbody>\n",
       "</table>\n",
       "<p>44898 rows × 5 columns</p>\n",
       "</div>"
      ],
      "text/plain": [
       "                                                   title  \\\n",
       "0      As U.S. budget fight looms, Republicans flip t...   \n",
       "1      U.S. military to accept transgender recruits o...   \n",
       "2      Senior U.S. Republican senator: 'Let Mr. Muell...   \n",
       "3      FBI Russia probe helped by Australian diplomat...   \n",
       "4      Trump wants Postal Service to charge 'much mor...   \n",
       "...                                                  ...   \n",
       "44893  McPain: John McCain Furious That Iran Treated ...   \n",
       "44894  JUSTICE? Yahoo Settles E-mail Privacy Class-ac...   \n",
       "44895  Sunnistan: US and Allied ‘Safe Zone’ Plan to T...   \n",
       "44896  How to Blow $700 Million: Al Jazeera America F...   \n",
       "44897  10 U.S. Navy Sailors Held by Iranian Military ...   \n",
       "\n",
       "                                                    text       subject  \\\n",
       "0      WASHINGTON (Reuters) - The head of a conservat...  politicsNews   \n",
       "1      WASHINGTON (Reuters) - Transgender people will...  politicsNews   \n",
       "2      WASHINGTON (Reuters) - The special counsel inv...  politicsNews   \n",
       "3      WASHINGTON (Reuters) - Trump campaign adviser ...  politicsNews   \n",
       "4      SEATTLE/WASHINGTON (Reuters) - President Donal...  politicsNews   \n",
       "...                                                  ...           ...   \n",
       "44893  21st Century Wire says As 21WIRE reported earl...   Middle-east   \n",
       "44894  21st Century Wire says It s a familiar theme. ...   Middle-east   \n",
       "44895  Patrick Henningsen  21st Century WireRemember ...   Middle-east   \n",
       "44896  21st Century Wire says Al Jazeera America will...   Middle-east   \n",
       "44897  21st Century Wire says As 21WIRE predicted in ...   Middle-east   \n",
       "\n",
       "                     date  class  \n",
       "0      December 31, 2017       0  \n",
       "1      December 29, 2017       0  \n",
       "2      December 31, 2017       0  \n",
       "3      December 30, 2017       0  \n",
       "4      December 29, 2017       0  \n",
       "...                   ...    ...  \n",
       "44893    January 16, 2016      1  \n",
       "44894    January 16, 2016      1  \n",
       "44895    January 15, 2016      1  \n",
       "44896    January 14, 2016      1  \n",
       "44897    January 12, 2016      1  \n",
       "\n",
       "[44898 rows x 5 columns]"
      ]
     },
     "execution_count": 2,
     "metadata": {},
     "output_type": "execute_result"
    }
   ],
   "source": [
    "#format dataframe\n",
    "fake = pd.read_csv('fake.csv')\n",
    "news = pd.read_csv('true.csv')\n",
    "news['class'] = 0 \n",
    "fake['class'] = 1\n",
    "news = news.append(fake).reset_index(drop=True)\n",
    "news"
   ]
  },
  {
   "cell_type": "markdown",
   "id": "2c2d7318",
   "metadata": {},
   "source": [
    "### Reusable functions"
   ]
  },
  {
   "cell_type": "code",
   "execution_count": 3,
   "id": "4204c1a7",
   "metadata": {},
   "outputs": [],
   "source": [
    "#using kfold for validation\n",
    "x_train, x_test, y_train, y_test = train_test_split(news[\"title\"], news['class'], test_size=0.2, random_state=14)\n",
    "kf = KFold(n_splits=3, random_state=14, shuffle=True)\n",
    "vector = TfidfVectorizer(stop_words=\"english\", max_features=50,max_df=0.7)"
   ]
  },
  {
   "cell_type": "code",
   "execution_count": 4,
   "id": "8171c258",
   "metadata": {},
   "outputs": [],
   "source": [
    "#groups data\n",
    "def formatPD(data, target):\n",
    "    return data.groupby(target).mean().reset_index()"
   ]
  },
  {
   "cell_type": "code",
   "execution_count": 5,
   "id": "6ff6ee9c",
   "metadata": {},
   "outputs": [],
   "source": [
    "def graph(data):\n",
    "    FPR = data['Pf']\n",
    "    TPR = data['Pd']\n",
    "    FPR, TPR = zip(*sorted(zip(FPR, TPR)))\n",
    "    fpr = [0.]+list(FPR)+[1.]; tpr = [0.]+list(TPR)+[1.]\n",
    "\n",
    "    # Plot\n",
    "    fig, ax = plt.subplots()\n",
    "    plt.plot(fpr, tpr, ':', label='ROC')\n",
    "    plt.scatter(FPR, TPR, 50, color='red', marker='o', label='operating points')\n",
    "    plt.plot([0, 1], [0, 1], linestyle='--', color=(0.6, 0.6, 0.6), label='coin flip')\n",
    "\n",
    "    # Labels\n",
    "    plt.xlabel('False Positive Rate')\n",
    "    plt.ylabel('True Positive Rate')\n",
    "    plt.legend(loc='lower right')\n",
    "    plt.grid()\n",
    "    plt.show()"
   ]
  },
  {
   "cell_type": "code",
   "execution_count": 6,
   "id": "ba67d46f",
   "metadata": {},
   "outputs": [],
   "source": [
    "#takes in classifier and data to return score metrics\n",
    "def learn(classifier, vector_train, vector_test, k_y_train, k_y_test, class1, class2, hyper1, hyper2):\n",
    "    FPR, TPR = [], []\n",
    "    classifier.fit(vector_train, k_y_train)\n",
    "    k_y_pred = classifier.predict(vector_test)\n",
    "    tn, fp, fn, tp = confusion_matrix(k_y_test, k_y_pred).ravel()\n",
    "    TPR += [tp/(tp+fn)]  # Pd percent of correct true vs all true\n",
    "    FPR += [fp/(fp+tn)]  # Pf percent of false true vs all negative\n",
    "    return pd.Series({'Score': classifier.score(vector_test, k_y_test), class1:hyper1 , class2: hyper2, 'Pd': TPR[-1], 'Pf':FPR[-1]}), tp, fp, fn, tn"
   ]
  },
  {
   "cell_type": "markdown",
   "id": "b0e77a54",
   "metadata": {},
   "source": [
    "### Decision Tree"
   ]
  },
  {
   "cell_type": "code",
   "execution_count": 7,
   "id": "540bb10a",
   "metadata": {},
   "outputs": [],
   "source": [
    "max_node=[2,50]\n",
    "max_depth = [1,50]"
   ]
  },
  {
   "cell_type": "code",
   "execution_count": 8,
   "id": "83c8ad45",
   "metadata": {},
   "outputs": [
    {
     "name": "stdout",
     "output_type": "stream",
     "text": [
      "2 1\n",
      "2 1\n",
      "2 1\n",
      "2 50\n",
      "2 50\n",
      "2 50\n",
      "50 1\n",
      "50 1\n",
      "50 1\n",
      "50 50\n",
      "50 50\n",
      "50 50\n"
     ]
    }
   ],
   "source": [
    "treePD = pd.DataFrame(columns=['Score', 'Nodes', 'Depth', 'Pd', 'Pf'])\n",
    "for leaf in max_node:\n",
    "    for depth in max_depth:\n",
    "        for train_index, test_index in kf.split(x_train):             \n",
    "            k_x_train, k_x_test = x_train.iloc[train_index], x_train.iloc[test_index]\n",
    "            k_y_train, k_y_test = y_train.iloc[train_index], y_train.iloc[test_index]\n",
    "            vector_train = vector.fit_transform(k_x_train)\n",
    "            vector_test = vector.transform(k_x_test)\n",
    "            treePD = treePD.append(learn(DecisionTreeClassifier(random_state=14, max_leaf_nodes=leaf, max_depth=depth), vector_train, vector_test, k_y_train, k_y_test, 'Nodes', 'Depth', leaf, depth)[0], ignore_index=True)\n",
    "            print(leaf, depth)"
   ]
  },
  {
   "cell_type": "code",
   "execution_count": 9,
   "id": "fba17de6",
   "metadata": {},
   "outputs": [
    {
     "data": {
      "text/html": [
       "<div>\n",
       "<style scoped>\n",
       "    .dataframe tbody tr th:only-of-type {\n",
       "        vertical-align: middle;\n",
       "    }\n",
       "\n",
       "    .dataframe tbody tr th {\n",
       "        vertical-align: top;\n",
       "    }\n",
       "\n",
       "    .dataframe thead th {\n",
       "        text-align: right;\n",
       "    }\n",
       "</style>\n",
       "<table border=\"1\" class=\"dataframe\">\n",
       "  <thead>\n",
       "    <tr style=\"text-align: right;\">\n",
       "      <th></th>\n",
       "      <th>Nodes</th>\n",
       "      <th>Depth</th>\n",
       "      <th>Score</th>\n",
       "      <th>Pd</th>\n",
       "      <th>Pf</th>\n",
       "    </tr>\n",
       "  </thead>\n",
       "  <tbody>\n",
       "    <tr>\n",
       "      <th>0</th>\n",
       "      <td>2.0</td>\n",
       "      <td>1.0</td>\n",
       "      <td>0.660198</td>\n",
       "      <td>0.351896</td>\n",
       "      <td>0.001577</td>\n",
       "    </tr>\n",
       "    <tr>\n",
       "      <th>1</th>\n",
       "      <td>2.0</td>\n",
       "      <td>50.0</td>\n",
       "      <td>0.660198</td>\n",
       "      <td>0.351896</td>\n",
       "      <td>0.001577</td>\n",
       "    </tr>\n",
       "    <tr>\n",
       "      <th>2</th>\n",
       "      <td>50.0</td>\n",
       "      <td>1.0</td>\n",
       "      <td>0.660198</td>\n",
       "      <td>0.351896</td>\n",
       "      <td>0.001577</td>\n",
       "    </tr>\n",
       "    <tr>\n",
       "      <th>3</th>\n",
       "      <td>50.0</td>\n",
       "      <td>50.0</td>\n",
       "      <td>0.813102</td>\n",
       "      <td>0.700917</td>\n",
       "      <td>0.063816</td>\n",
       "    </tr>\n",
       "  </tbody>\n",
       "</table>\n",
       "</div>"
      ],
      "text/plain": [
       "   Nodes  Depth     Score        Pd        Pf\n",
       "0    2.0    1.0  0.660198  0.351896  0.001577\n",
       "1    2.0   50.0  0.660198  0.351896  0.001577\n",
       "2   50.0    1.0  0.660198  0.351896  0.001577\n",
       "3   50.0   50.0  0.813102  0.700917  0.063816"
      ]
     },
     "execution_count": 9,
     "metadata": {},
     "output_type": "execute_result"
    }
   ],
   "source": [
    "treePD_format = formatPD(treePD, ['Nodes', 'Depth'])\n",
    "treePD_format"
   ]
  },
  {
   "cell_type": "code",
   "execution_count": 10,
   "id": "432fa6d3",
   "metadata": {},
   "outputs": [
    {
     "data": {
      "image/png": "[encoded data removed]",
      "text/plain": [
       "<Figure size 432x288 with 1 Axes>"
      ]
     },
     "metadata": {
      "needs_background": "light"
     },
     "output_type": "display_data"
    }
   ],
   "source": [
    "graph(treePD_format)"
   ]
  },
  {
   "cell_type": "markdown",
   "id": "3ba82f7c",
   "metadata": {},
   "source": [
    "### Forest"
   ]
  },
  {
   "cell_type": "code",
   "execution_count": 11,
   "id": "20b2f710",
   "metadata": {},
   "outputs": [],
   "source": [
    "trees = [1,25,50]\n",
    "#reuse max_depth"
   ]
  },
  {
   "cell_type": "code",
   "execution_count": 12,
   "id": "e2603f50",
   "metadata": {},
   "outputs": [
    {
     "name": "stdout",
     "output_type": "stream",
     "text": [
      "1 1\n",
      "1 1\n",
      "1 1\n",
      "1 50\n",
      "1 50\n",
      "1 50\n",
      "25 1\n",
      "25 1\n",
      "25 1\n",
      "25 50\n",
      "25 50\n",
      "25 50\n",
      "50 1\n",
      "50 1\n",
      "50 1\n",
      "50 50\n",
      "50 50\n",
      "50 50\n"
     ]
    }
   ],
   "source": [
    "forestPD = pd.DataFrame(columns=['Score', 'Trees', 'Depth', 'Pd', 'Pf'])\n",
    "for tree_size in trees:\n",
    "    for depth in max_depth:\n",
    "         for train_index, test_index in kf.split(x_train):             \n",
    "            k_x_train, k_x_test = x_train.iloc[train_index], x_train.iloc[test_index]\n",
    "            k_y_train, k_y_test = y_train.iloc[train_index], y_train.iloc[test_index]\n",
    "            vector_train = vector.fit_transform(k_x_train)\n",
    "            vector_test = vector.transform(k_x_test)\n",
    "            forestPD = forestPD.append(learn(RandomForestClassifier(random_state=14, n_estimators=tree_size, max_depth=depth), vector_train, vector_test, k_y_train, k_y_test, 'Trees', 'Depth', tree_size, depth)[0], ignore_index=True)\n",
    "            print(tree_size, depth)"
   ]
  },
  {
   "cell_type": "code",
   "execution_count": 13,
   "id": "0b88caa5",
   "metadata": {},
   "outputs": [
    {
     "data": {
      "text/html": [
       "<div>\n",
       "<style scoped>\n",
       "    .dataframe tbody tr th:only-of-type {\n",
       "        vertical-align: middle;\n",
       "    }\n",
       "\n",
       "    .dataframe tbody tr th {\n",
       "        vertical-align: top;\n",
       "    }\n",
       "\n",
       "    .dataframe thead th {\n",
       "        text-align: right;\n",
       "    }\n",
       "</style>\n",
       "<table border=\"1\" class=\"dataframe\">\n",
       "  <thead>\n",
       "    <tr style=\"text-align: right;\">\n",
       "      <th></th>\n",
       "      <th>Trees</th>\n",
       "      <th>Depth</th>\n",
       "      <th>Score</th>\n",
       "      <th>Pd</th>\n",
       "      <th>Pf</th>\n",
       "    </tr>\n",
       "  </thead>\n",
       "  <tbody>\n",
       "    <tr>\n",
       "      <th>0</th>\n",
       "      <td>1.0</td>\n",
       "      <td>1.0</td>\n",
       "      <td>0.533938</td>\n",
       "      <td>0.997449</td>\n",
       "      <td>0.974523</td>\n",
       "    </tr>\n",
       "    <tr>\n",
       "      <th>1</th>\n",
       "      <td>1.0</td>\n",
       "      <td>50.0</td>\n",
       "      <td>0.806671</td>\n",
       "      <td>0.702037</td>\n",
       "      <td>0.078516</td>\n",
       "    </tr>\n",
       "    <tr>\n",
       "      <th>2</th>\n",
       "      <td>25.0</td>\n",
       "      <td>1.0</td>\n",
       "      <td>0.621944</td>\n",
       "      <td>0.979070</td>\n",
       "      <td>0.769589</td>\n",
       "    </tr>\n",
       "    <tr>\n",
       "      <th>3</th>\n",
       "      <td>25.0</td>\n",
       "      <td>50.0</td>\n",
       "      <td>0.815302</td>\n",
       "      <td>0.709052</td>\n",
       "      <td>0.068144</td>\n",
       "    </tr>\n",
       "    <tr>\n",
       "      <th>4</th>\n",
       "      <td>50.0</td>\n",
       "      <td>1.0</td>\n",
       "      <td>0.683949</td>\n",
       "      <td>0.897396</td>\n",
       "      <td>0.550327</td>\n",
       "    </tr>\n",
       "    <tr>\n",
       "      <th>5</th>\n",
       "      <td>50.0</td>\n",
       "      <td>50.0</td>\n",
       "      <td>0.815524</td>\n",
       "      <td>0.707829</td>\n",
       "      <td>0.066326</td>\n",
       "    </tr>\n",
       "  </tbody>\n",
       "</table>\n",
       "</div>"
      ],
      "text/plain": [
       "   Trees  Depth     Score        Pd        Pf\n",
       "0    1.0    1.0  0.533938  0.997449  0.974523\n",
       "1    1.0   50.0  0.806671  0.702037  0.078516\n",
       "2   25.0    1.0  0.621944  0.979070  0.769589\n",
       "3   25.0   50.0  0.815302  0.709052  0.068144\n",
       "4   50.0    1.0  0.683949  0.897396  0.550327\n",
       "5   50.0   50.0  0.815524  0.707829  0.066326"
      ]
     },
     "execution_count": 13,
     "metadata": {},
     "output_type": "execute_result"
    }
   ],
   "source": [
    "forestPD_format = formatPD(forestPD, ['Trees', 'Depth'])\n",
    "forestPD_format"
   ]
  },
  {
   "cell_type": "code",
   "execution_count": 14,
   "id": "4221d4f8",
   "metadata": {},
   "outputs": [
    {
     "data": {
      "image/png": "[encoded data removed]",
      "text/plain": [
       "<Figure size 432x288 with 1 Axes>"
      ]
     },
     "metadata": {
      "needs_background": "light"
     },
     "output_type": "display_data"
    }
   ],
   "source": [
    "graph(forestPD_format)"
   ]
  },
  {
   "cell_type": "markdown",
   "id": "89ff58bd",
   "metadata": {},
   "source": [
    "### Neural Net (Multilayer Perceptron)"
   ]
  },
  {
   "cell_type": "code",
   "execution_count": 15,
   "id": "53c2cac8",
   "metadata": {},
   "outputs": [],
   "source": [
    "solver = ['adam', 'sgd']\n",
    "learning_rate=[0.00001,0.01]"
   ]
  },
  {
   "cell_type": "code",
   "execution_count": 16,
   "id": "77b3d499",
   "metadata": {},
   "outputs": [
    {
     "name": "stdout",
     "output_type": "stream",
     "text": [
      "adam 1e-05\n",
      "adam 1e-05\n",
      "adam 1e-05\n",
      "adam 0.01\n",
      "adam 0.01\n",
      "adam 0.01\n",
      "sgd 1e-05\n",
      "sgd 1e-05\n",
      "sgd 1e-05\n",
      "sgd 0.01\n",
      "sgd 0.01\n",
      "sgd 0.01\n"
     ]
    }
   ],
   "source": [
    "mlpPD = pd.DataFrame(columns=['Score', 'Solver', 'Rate', 'Pd', 'Pf'])\n",
    "for solve in solver:\n",
    "    for rate in learning_rate:\n",
    "         for train_index, test_index in kf.split(x_train):             \n",
    "            k_x_train, k_x_test = x_train.iloc[train_index], x_train.iloc[test_index]\n",
    "            k_y_train, k_y_test = y_train.iloc[train_index], y_train.iloc[test_index]\n",
    "            vector_train = vector.fit_transform(k_x_train)\n",
    "            vector_test = vector.transform(k_x_test)\n",
    "            mlpPD = mlpPD.append(learn(MLPClassifier(random_state=14, max_iter=500, solver=solve, learning_rate_init=rate), vector_train, vector_test, k_y_train, k_y_test, 'Solver', 'Rate', solve, rate)[0], ignore_index=True)\n",
    "            print(solve, rate)"
   ]
  },
  {
   "cell_type": "code",
   "execution_count": 17,
   "id": "625c7133",
   "metadata": {},
   "outputs": [
    {
     "data": {
      "text/html": [
       "<div>\n",
       "<style scoped>\n",
       "    .dataframe tbody tr th:only-of-type {\n",
       "        vertical-align: middle;\n",
       "    }\n",
       "\n",
       "    .dataframe tbody tr th {\n",
       "        vertical-align: top;\n",
       "    }\n",
       "\n",
       "    .dataframe thead th {\n",
       "        text-align: right;\n",
       "    }\n",
       "</style>\n",
       "<table border=\"1\" class=\"dataframe\">\n",
       "  <thead>\n",
       "    <tr style=\"text-align: right;\">\n",
       "      <th></th>\n",
       "      <th>Solver</th>\n",
       "      <th>Rate</th>\n",
       "      <th>Score</th>\n",
       "      <th>Pd</th>\n",
       "      <th>Pf</th>\n",
       "    </tr>\n",
       "  </thead>\n",
       "  <tbody>\n",
       "    <tr>\n",
       "      <th>0</th>\n",
       "      <td>adam</td>\n",
       "      <td>0.00001</td>\n",
       "      <td>0.813770</td>\n",
       "      <td>0.706500</td>\n",
       "      <td>0.068545</td>\n",
       "    </tr>\n",
       "    <tr>\n",
       "      <th>1</th>\n",
       "      <td>adam</td>\n",
       "      <td>0.01000</td>\n",
       "      <td>0.812406</td>\n",
       "      <td>0.712087</td>\n",
       "      <td>0.077550</td>\n",
       "    </tr>\n",
       "    <tr>\n",
       "      <th>2</th>\n",
       "      <td>sgd</td>\n",
       "      <td>0.00001</td>\n",
       "      <td>0.527814</td>\n",
       "      <td>0.835747</td>\n",
       "      <td>0.809181</td>\n",
       "    </tr>\n",
       "    <tr>\n",
       "      <th>3</th>\n",
       "      <td>sgd</td>\n",
       "      <td>0.01000</td>\n",
       "      <td>0.817501</td>\n",
       "      <td>0.711822</td>\n",
       "      <td>0.066576</td>\n",
       "    </tr>\n",
       "  </tbody>\n",
       "</table>\n",
       "</div>"
      ],
      "text/plain": [
       "  Solver     Rate     Score        Pd        Pf\n",
       "0   adam  0.00001  0.813770  0.706500  0.068545\n",
       "1   adam  0.01000  0.812406  0.712087  0.077550\n",
       "2    sgd  0.00001  0.527814  0.835747  0.809181\n",
       "3    sgd  0.01000  0.817501  0.711822  0.066576"
      ]
     },
     "execution_count": 17,
     "metadata": {},
     "output_type": "execute_result"
    }
   ],
   "source": [
    "mlpPD_format = formatPD(mlpPD, ['Solver', 'Rate'])\n",
    "mlpPD_format"
   ]
  },
  {
   "cell_type": "code",
   "execution_count": 18,
   "id": "314dd08a",
   "metadata": {},
   "outputs": [
    {
     "data": {
      "image/png": "[encoded data removed]",
      "text/plain": [
       "<Figure size 432x288 with 1 Axes>"
      ]
     },
     "metadata": {
      "needs_background": "light"
     },
     "output_type": "display_data"
    }
   ],
   "source": [
    "graph(mlpPD_format)"
   ]
  },
  {
   "cell_type": "markdown",
   "id": "b139e7b1",
   "metadata": {},
   "source": [
    "## 2. [10 pts] What kind of behavior would you expect to see in Pd – Pf interaction of an ROC plot? Do you see it in yours?\n",
    "I expect to see as the Pd percentage rises, pf should fall. The logic here is that if you correctly classify all true positive, then there will be no false positive. This behavior is not correct as pf can still be high with a high pd score. For example, if a model classifies everything as positive, then fn and tn will both be zero. TPR will be tp/(tp+0) = 1 and FPR will be fp/(fp+0)=1. For the most part, the pd-pf interaction should show rapid improvement in pd (in my case approaching .8) and slight growth in fp (in my case approaching .1)."
   ]
  },
  {
   "cell_type": "markdown",
   "id": "e92f2038",
   "metadata": {},
   "source": [
    "## 3. [10 pts] From the ROC plot that you created make a selection of the classifier and hyperparameter setting for this problem. Note that we are classifying fake news so your conclusion might be subjective but has to be supported by your findings.\n",
    "I will choose a random forest with 25 trees and 50 depth. I am also going to increase vector feature size. All my classifiers had pretty bad accuracy, and this only had 81% but this is still better than the majority. It has a high pd score with a low pf score in comparison. If we are trying to call something fake news, then a false positive means we are calling real news fake while a false negative means we are calling fake news real. I see both of these as bad, but I am not sure which is worse. I am going to choose calling real news fake as worse, so I will try to limit false positives."
   ]
  },
  {
   "cell_type": "markdown",
   "id": "df339d94",
   "metadata": {},
   "source": [
    "## 4. [10 pts] Try adding text column to the features. Report the performance of the new classifier model. Why do you think it is much higher than the previous one which only uses title?\n",
    "This classifier actually did really well. There were only 40 missclassifications and it got an accuracy of 99.56%. Also, the Pd was very high with the Pf being very low.\n",
    "This did much better for multiple reasons.  First, it is using a larger dataset to train on. Second, I increased the max_features by double. Third, and most impotantly, including the text feature is very important because I believe this is where fake news can be determined. A title can be very misleading but in context (throught the text feature), it could make sense. By explaining the title in text, we can find fake news."
   ]
  },
  {
   "cell_type": "code",
   "execution_count": 19,
   "id": "891589eb",
   "metadata": {},
   "outputs": [
    {
     "name": "stdout",
     "output_type": "stream",
     "text": [
      "Score     0.995657\n",
      "Trees    25.000000\n",
      "Depth    50.000000\n",
      "Pd        0.994884\n",
      "Pf        0.003497\n",
      "dtype: float64\n",
      "4667 15\n",
      "24 4274\n"
     ]
    }
   ],
   "source": [
    "x_train, x_test, y_train, y_test = train_test_split(news[[\"title\",'text']], news['class'], test_size=0.2, random_state=14)\n",
    "vector = TfidfVectorizer(stop_words=\"english\", max_features=100,max_df=0.7)\n",
    "vector_train_text = vector.fit_transform(x_train['text'])\n",
    "vector_test_text= vector.transform(x_test['text'])\n",
    "vector_train_title = vector.fit_transform(x_train['title'])\n",
    "vector_test_title = vector.transform(x_test['title'])\n",
    "vector_train = np.concatenate((vector_train_title.todense(), vector_train_text.todense()), axis=1)\n",
    "vector_test = np.concatenate((vector_test_title.todense(), vector_test_text.todense()), axis=1)\n",
    "text_forest,tp, fp, fn, tn = learn(RandomForestClassifier(random_state=14, n_estimators=25, max_depth=50), vector_train, vector_test, y_train, y_test, 'Trees', 'Depth', 25, 50)\n",
    "print(text_forest)\n",
    "print(tp,fp)\n",
    "print(fn,tn)"
   ]
  },
  {
   "cell_type": "code",
   "execution_count": null,
   "id": "07c2bfbf",
   "metadata": {},
   "outputs": [],
   "source": []
  }
 ],
 "metadata": {
  "kernelspec": {
   "display_name": "Python 3",
   "language": "python",
   "name": "python3"
  },
  "language_info": {
   "codemirror_mode": {
    "name": "ipython",
    "version": 3
   },
   "file_extension": ".py",
   "mimetype": "text/x-python",
   "name": "python",
   "nbconvert_exporter": "python",
   "pygments_lexer": "ipython3",
   "version": "3.8.8"
  }
 },
 "nbformat": 4,
 "nbformat_minor": 5
}
