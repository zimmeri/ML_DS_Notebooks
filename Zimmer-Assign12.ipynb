{
 "cells": [
  {
   "cell_type": "markdown",
   "id": "e23e78a9",
   "metadata": {},
   "source": [
    "Credit card fraud costs about 1% of their revenue to the banks, an amount which customers\n",
    "(us) eventually pay. Let's find those anomalies which might reveal a fraud. Download the\n",
    "popular credit card dataset from Kaggle."
   ]
  },
  {
   "cell_type": "code",
   "execution_count": 1,
   "id": "b0f262ec",
   "metadata": {},
   "outputs": [],
   "source": [
    "import sys\n",
    "import torch\n",
    "import numpy as np\n",
    "import pandas as pd\n",
    "import seaborn as sea\n",
    "import matplotlib.pyplot as plot\n",
    "%matplotlib inline\n",
    "from tqdm import tqdm\n",
    "from sklearn.svm import SVC\n",
    "from sklearn.model_selection import KFold \n",
    "from sklearn.preprocessing import MinMaxScaler\n",
    "from sklearn.tree import DecisionTreeClassifier\n",
    "from sklearn.neural_network import MLPClassifier\n",
    "from sklearn.ensemble import RandomForestClassifier\n",
    "from sklearn.model_selection import train_test_split\n",
    "from sklearn.metrics import auc, f1_score, precision_recall_curve"
   ]
  },
  {
   "cell_type": "markdown",
   "id": "651b5723",
   "metadata": {},
   "source": [
    "## 1. [10 pts] Explore the dataset, list number of rows and columns, check sanity, examine features (e.g. histograms/plots)."
   ]
  },
  {
   "cell_type": "code",
   "execution_count": 2,
   "id": "42158b61",
   "metadata": {},
   "outputs": [
    {
     "name": "stdout",
     "output_type": "stream",
     "text": [
      "Columns:  31 \n",
      "Rows:  284807\n"
     ]
    },
    {
     "data": {
      "text/html": [
       "<div>\n",
       "<style scoped>\n",
       "    .dataframe tbody tr th:only-of-type {\n",
       "        vertical-align: middle;\n",
       "    }\n",
       "\n",
       "    .dataframe tbody tr th {\n",
       "        vertical-align: top;\n",
       "    }\n",
       "\n",
       "    .dataframe thead th {\n",
       "        text-align: right;\n",
       "    }\n",
       "</style>\n",
       "<table border=\"1\" class=\"dataframe\">\n",
       "  <thead>\n",
       "    <tr style=\"text-align: right;\">\n",
       "      <th></th>\n",
       "      <th>Time</th>\n",
       "      <th>V1</th>\n",
       "      <th>V2</th>\n",
       "      <th>V3</th>\n",
       "      <th>V4</th>\n",
       "      <th>V5</th>\n",
       "      <th>V6</th>\n",
       "      <th>V7</th>\n",
       "      <th>V8</th>\n",
       "      <th>V9</th>\n",
       "      <th>...</th>\n",
       "      <th>V21</th>\n",
       "      <th>V22</th>\n",
       "      <th>V23</th>\n",
       "      <th>V24</th>\n",
       "      <th>V25</th>\n",
       "      <th>V26</th>\n",
       "      <th>V27</th>\n",
       "      <th>V28</th>\n",
       "      <th>Amount</th>\n",
       "      <th>Class</th>\n",
       "    </tr>\n",
       "  </thead>\n",
       "  <tbody>\n",
       "    <tr>\n",
       "      <th>0</th>\n",
       "      <td>0.0</td>\n",
       "      <td>-1.359807</td>\n",
       "      <td>-0.072781</td>\n",
       "      <td>2.536347</td>\n",
       "      <td>1.378155</td>\n",
       "      <td>-0.338321</td>\n",
       "      <td>0.462388</td>\n",
       "      <td>0.239599</td>\n",
       "      <td>0.098698</td>\n",
       "      <td>0.363787</td>\n",
       "      <td>...</td>\n",
       "      <td>-0.018307</td>\n",
       "      <td>0.277838</td>\n",
       "      <td>-0.110474</td>\n",
       "      <td>0.066928</td>\n",
       "      <td>0.128539</td>\n",
       "      <td>-0.189115</td>\n",
       "      <td>0.133558</td>\n",
       "      <td>-0.021053</td>\n",
       "      <td>149.62</td>\n",
       "      <td>0</td>\n",
       "    </tr>\n",
       "    <tr>\n",
       "      <th>1</th>\n",
       "      <td>0.0</td>\n",
       "      <td>1.191857</td>\n",
       "      <td>0.266151</td>\n",
       "      <td>0.166480</td>\n",
       "      <td>0.448154</td>\n",
       "      <td>0.060018</td>\n",
       "      <td>-0.082361</td>\n",
       "      <td>-0.078803</td>\n",
       "      <td>0.085102</td>\n",
       "      <td>-0.255425</td>\n",
       "      <td>...</td>\n",
       "      <td>-0.225775</td>\n",
       "      <td>-0.638672</td>\n",
       "      <td>0.101288</td>\n",
       "      <td>-0.339846</td>\n",
       "      <td>0.167170</td>\n",
       "      <td>0.125895</td>\n",
       "      <td>-0.008983</td>\n",
       "      <td>0.014724</td>\n",
       "      <td>2.69</td>\n",
       "      <td>0</td>\n",
       "    </tr>\n",
       "    <tr>\n",
       "      <th>2</th>\n",
       "      <td>1.0</td>\n",
       "      <td>-1.358354</td>\n",
       "      <td>-1.340163</td>\n",
       "      <td>1.773209</td>\n",
       "      <td>0.379780</td>\n",
       "      <td>-0.503198</td>\n",
       "      <td>1.800499</td>\n",
       "      <td>0.791461</td>\n",
       "      <td>0.247676</td>\n",
       "      <td>-1.514654</td>\n",
       "      <td>...</td>\n",
       "      <td>0.247998</td>\n",
       "      <td>0.771679</td>\n",
       "      <td>0.909412</td>\n",
       "      <td>-0.689281</td>\n",
       "      <td>-0.327642</td>\n",
       "      <td>-0.139097</td>\n",
       "      <td>-0.055353</td>\n",
       "      <td>-0.059752</td>\n",
       "      <td>378.66</td>\n",
       "      <td>0</td>\n",
       "    </tr>\n",
       "    <tr>\n",
       "      <th>3</th>\n",
       "      <td>1.0</td>\n",
       "      <td>-0.966272</td>\n",
       "      <td>-0.185226</td>\n",
       "      <td>1.792993</td>\n",
       "      <td>-0.863291</td>\n",
       "      <td>-0.010309</td>\n",
       "      <td>1.247203</td>\n",
       "      <td>0.237609</td>\n",
       "      <td>0.377436</td>\n",
       "      <td>-1.387024</td>\n",
       "      <td>...</td>\n",
       "      <td>-0.108300</td>\n",
       "      <td>0.005274</td>\n",
       "      <td>-0.190321</td>\n",
       "      <td>-1.175575</td>\n",
       "      <td>0.647376</td>\n",
       "      <td>-0.221929</td>\n",
       "      <td>0.062723</td>\n",
       "      <td>0.061458</td>\n",
       "      <td>123.50</td>\n",
       "      <td>0</td>\n",
       "    </tr>\n",
       "    <tr>\n",
       "      <th>4</th>\n",
       "      <td>2.0</td>\n",
       "      <td>-1.158233</td>\n",
       "      <td>0.877737</td>\n",
       "      <td>1.548718</td>\n",
       "      <td>0.403034</td>\n",
       "      <td>-0.407193</td>\n",
       "      <td>0.095921</td>\n",
       "      <td>0.592941</td>\n",
       "      <td>-0.270533</td>\n",
       "      <td>0.817739</td>\n",
       "      <td>...</td>\n",
       "      <td>-0.009431</td>\n",
       "      <td>0.798278</td>\n",
       "      <td>-0.137458</td>\n",
       "      <td>0.141267</td>\n",
       "      <td>-0.206010</td>\n",
       "      <td>0.502292</td>\n",
       "      <td>0.219422</td>\n",
       "      <td>0.215153</td>\n",
       "      <td>69.99</td>\n",
       "      <td>0</td>\n",
       "    </tr>\n",
       "    <tr>\n",
       "      <th>...</th>\n",
       "      <td>...</td>\n",
       "      <td>...</td>\n",
       "      <td>...</td>\n",
       "      <td>...</td>\n",
       "      <td>...</td>\n",
       "      <td>...</td>\n",
       "      <td>...</td>\n",
       "      <td>...</td>\n",
       "      <td>...</td>\n",
       "      <td>...</td>\n",
       "      <td>...</td>\n",
       "      <td>...</td>\n",
       "      <td>...</td>\n",
       "      <td>...</td>\n",
       "      <td>...</td>\n",
       "      <td>...</td>\n",
       "      <td>...</td>\n",
       "      <td>...</td>\n",
       "      <td>...</td>\n",
       "      <td>...</td>\n",
       "      <td>...</td>\n",
       "    </tr>\n",
       "    <tr>\n",
       "      <th>284802</th>\n",
       "      <td>172786.0</td>\n",
       "      <td>-11.881118</td>\n",
       "      <td>10.071785</td>\n",
       "      <td>-9.834783</td>\n",
       "      <td>-2.066656</td>\n",
       "      <td>-5.364473</td>\n",
       "      <td>-2.606837</td>\n",
       "      <td>-4.918215</td>\n",
       "      <td>7.305334</td>\n",
       "      <td>1.914428</td>\n",
       "      <td>...</td>\n",
       "      <td>0.213454</td>\n",
       "      <td>0.111864</td>\n",
       "      <td>1.014480</td>\n",
       "      <td>-0.509348</td>\n",
       "      <td>1.436807</td>\n",
       "      <td>0.250034</td>\n",
       "      <td>0.943651</td>\n",
       "      <td>0.823731</td>\n",
       "      <td>0.77</td>\n",
       "      <td>0</td>\n",
       "    </tr>\n",
       "    <tr>\n",
       "      <th>284803</th>\n",
       "      <td>172787.0</td>\n",
       "      <td>-0.732789</td>\n",
       "      <td>-0.055080</td>\n",
       "      <td>2.035030</td>\n",
       "      <td>-0.738589</td>\n",
       "      <td>0.868229</td>\n",
       "      <td>1.058415</td>\n",
       "      <td>0.024330</td>\n",
       "      <td>0.294869</td>\n",
       "      <td>0.584800</td>\n",
       "      <td>...</td>\n",
       "      <td>0.214205</td>\n",
       "      <td>0.924384</td>\n",
       "      <td>0.012463</td>\n",
       "      <td>-1.016226</td>\n",
       "      <td>-0.606624</td>\n",
       "      <td>-0.395255</td>\n",
       "      <td>0.068472</td>\n",
       "      <td>-0.053527</td>\n",
       "      <td>24.79</td>\n",
       "      <td>0</td>\n",
       "    </tr>\n",
       "    <tr>\n",
       "      <th>284804</th>\n",
       "      <td>172788.0</td>\n",
       "      <td>1.919565</td>\n",
       "      <td>-0.301254</td>\n",
       "      <td>-3.249640</td>\n",
       "      <td>-0.557828</td>\n",
       "      <td>2.630515</td>\n",
       "      <td>3.031260</td>\n",
       "      <td>-0.296827</td>\n",
       "      <td>0.708417</td>\n",
       "      <td>0.432454</td>\n",
       "      <td>...</td>\n",
       "      <td>0.232045</td>\n",
       "      <td>0.578229</td>\n",
       "      <td>-0.037501</td>\n",
       "      <td>0.640134</td>\n",
       "      <td>0.265745</td>\n",
       "      <td>-0.087371</td>\n",
       "      <td>0.004455</td>\n",
       "      <td>-0.026561</td>\n",
       "      <td>67.88</td>\n",
       "      <td>0</td>\n",
       "    </tr>\n",
       "    <tr>\n",
       "      <th>284805</th>\n",
       "      <td>172788.0</td>\n",
       "      <td>-0.240440</td>\n",
       "      <td>0.530483</td>\n",
       "      <td>0.702510</td>\n",
       "      <td>0.689799</td>\n",
       "      <td>-0.377961</td>\n",
       "      <td>0.623708</td>\n",
       "      <td>-0.686180</td>\n",
       "      <td>0.679145</td>\n",
       "      <td>0.392087</td>\n",
       "      <td>...</td>\n",
       "      <td>0.265245</td>\n",
       "      <td>0.800049</td>\n",
       "      <td>-0.163298</td>\n",
       "      <td>0.123205</td>\n",
       "      <td>-0.569159</td>\n",
       "      <td>0.546668</td>\n",
       "      <td>0.108821</td>\n",
       "      <td>0.104533</td>\n",
       "      <td>10.00</td>\n",
       "      <td>0</td>\n",
       "    </tr>\n",
       "    <tr>\n",
       "      <th>284806</th>\n",
       "      <td>172792.0</td>\n",
       "      <td>-0.533413</td>\n",
       "      <td>-0.189733</td>\n",
       "      <td>0.703337</td>\n",
       "      <td>-0.506271</td>\n",
       "      <td>-0.012546</td>\n",
       "      <td>-0.649617</td>\n",
       "      <td>1.577006</td>\n",
       "      <td>-0.414650</td>\n",
       "      <td>0.486180</td>\n",
       "      <td>...</td>\n",
       "      <td>0.261057</td>\n",
       "      <td>0.643078</td>\n",
       "      <td>0.376777</td>\n",
       "      <td>0.008797</td>\n",
       "      <td>-0.473649</td>\n",
       "      <td>-0.818267</td>\n",
       "      <td>-0.002415</td>\n",
       "      <td>0.013649</td>\n",
       "      <td>217.00</td>\n",
       "      <td>0</td>\n",
       "    </tr>\n",
       "  </tbody>\n",
       "</table>\n",
       "<p>284807 rows × 31 columns</p>\n",
       "</div>"
      ],
      "text/plain": [
       "            Time         V1         V2        V3        V4        V5  \\\n",
       "0            0.0  -1.359807  -0.072781  2.536347  1.378155 -0.338321   \n",
       "1            0.0   1.191857   0.266151  0.166480  0.448154  0.060018   \n",
       "2            1.0  -1.358354  -1.340163  1.773209  0.379780 -0.503198   \n",
       "3            1.0  -0.966272  -0.185226  1.792993 -0.863291 -0.010309   \n",
       "4            2.0  -1.158233   0.877737  1.548718  0.403034 -0.407193   \n",
       "...          ...        ...        ...       ...       ...       ...   \n",
       "284802  172786.0 -11.881118  10.071785 -9.834783 -2.066656 -5.364473   \n",
       "284803  172787.0  -0.732789  -0.055080  2.035030 -0.738589  0.868229   \n",
       "284804  172788.0   1.919565  -0.301254 -3.249640 -0.557828  2.630515   \n",
       "284805  172788.0  -0.240440   0.530483  0.702510  0.689799 -0.377961   \n",
       "284806  172792.0  -0.533413  -0.189733  0.703337 -0.506271 -0.012546   \n",
       "\n",
       "              V6        V7        V8        V9  ...       V21       V22  \\\n",
       "0       0.462388  0.239599  0.098698  0.363787  ... -0.018307  0.277838   \n",
       "1      -0.082361 -0.078803  0.085102 -0.255425  ... -0.225775 -0.638672   \n",
       "2       1.800499  0.791461  0.247676 -1.514654  ...  0.247998  0.771679   \n",
       "3       1.247203  0.237609  0.377436 -1.387024  ... -0.108300  0.005274   \n",
       "4       0.095921  0.592941 -0.270533  0.817739  ... -0.009431  0.798278   \n",
       "...          ...       ...       ...       ...  ...       ...       ...   \n",
       "284802 -2.606837 -4.918215  7.305334  1.914428  ...  0.213454  0.111864   \n",
       "284803  1.058415  0.024330  0.294869  0.584800  ...  0.214205  0.924384   \n",
       "284804  3.031260 -0.296827  0.708417  0.432454  ...  0.232045  0.578229   \n",
       "284805  0.623708 -0.686180  0.679145  0.392087  ...  0.265245  0.800049   \n",
       "284806 -0.649617  1.577006 -0.414650  0.486180  ...  0.261057  0.643078   \n",
       "\n",
       "             V23       V24       V25       V26       V27       V28  Amount  \\\n",
       "0      -0.110474  0.066928  0.128539 -0.189115  0.133558 -0.021053  149.62   \n",
       "1       0.101288 -0.339846  0.167170  0.125895 -0.008983  0.014724    2.69   \n",
       "2       0.909412 -0.689281 -0.327642 -0.139097 -0.055353 -0.059752  378.66   \n",
       "3      -0.190321 -1.175575  0.647376 -0.221929  0.062723  0.061458  123.50   \n",
       "4      -0.137458  0.141267 -0.206010  0.502292  0.219422  0.215153   69.99   \n",
       "...          ...       ...       ...       ...       ...       ...     ...   \n",
       "284802  1.014480 -0.509348  1.436807  0.250034  0.943651  0.823731    0.77   \n",
       "284803  0.012463 -1.016226 -0.606624 -0.395255  0.068472 -0.053527   24.79   \n",
       "284804 -0.037501  0.640134  0.265745 -0.087371  0.004455 -0.026561   67.88   \n",
       "284805 -0.163298  0.123205 -0.569159  0.546668  0.108821  0.104533   10.00   \n",
       "284806  0.376777  0.008797 -0.473649 -0.818267 -0.002415  0.013649  217.00   \n",
       "\n",
       "        Class  \n",
       "0           0  \n",
       "1           0  \n",
       "2           0  \n",
       "3           0  \n",
       "4           0  \n",
       "...       ...  \n",
       "284802      0  \n",
       "284803      0  \n",
       "284804      0  \n",
       "284805      0  \n",
       "284806      0  \n",
       "\n",
       "[284807 rows x 31 columns]"
      ]
     },
     "execution_count": 2,
     "metadata": {},
     "output_type": "execute_result"
    }
   ],
   "source": [
    "data = pd.read_csv('creditcard.csv')\n",
    "print('Columns: ', len(data.columns), '\\nRows: ', len(data))\n",
    "data"
   ]
  },
  {
   "cell_type": "code",
   "execution_count": 3,
   "id": "7cde4585",
   "metadata": {},
   "outputs": [
    {
     "name": "stdout",
     "output_type": "stream",
     "text": [
      "Col:  Time\n",
      "Nulls:  0\n",
      "Max:  172792.0\n",
      "Min :  0.0\n",
      "Mean:  94813.85957508067\n",
      "Mode:  [163152.]\n"
     ]
    },
    {
     "data": {
      "image/png": "[encoded data removed]",
      "text/plain": [
       "<Figure size 432x288 with 1 Axes>"
      ]
     },
     "metadata": {
      "needs_background": "light"
     },
     "output_type": "display_data"
    },
    {
     "name": "stdout",
     "output_type": "stream",
     "text": [
      "Col:  V1\n",
      "Nulls:  0\n",
      "Max:  2.45492999121121\n",
      "Min :  -56.407509631329\n",
      "Mean:  3.918648695036257e-15\n",
      "Mode:  [1.24567382 2.05579701]\n"
     ]
    },
    {
     "data": {
      "image/png": "[encoded data removed]",
      "text/plain": [
       "<Figure size 432x288 with 1 Axes>"
      ]
     },
     "metadata": {
      "needs_background": "light"
     },
     "output_type": "display_data"
    },
    {
     "name": "stdout",
     "output_type": "stream",
     "text": [
      "Col:  V2\n",
      "Nulls:  0\n",
      "Max:  22.0577289904909\n",
      "Min :  -72.7157275629303\n",
      "Mean:  5.682685792130225e-16\n",
      "Mode:  [-0.32666777  0.16697502]\n"
     ]
    },
    {
     "data": {
      "image/png": "[encoded data removed]",
      "text/plain": [
       "<Figure size 432x288 with 1 Axes>"
      ]
     },
     "metadata": {
      "needs_background": "light"
     },
     "output_type": "display_data"
    },
    {
     "name": "stdout",
     "output_type": "stream",
     "text": [
      "Col:  V3\n",
      "Nulls:  0\n",
      "Max:  9.38255843282114\n",
      "Min :  -48.3255893623954\n",
      "Mean:  -8.761736096748595e-15\n",
      "Mode:  [-2.75204096  0.48830574]\n"
     ]
    },
    {
     "data": {
      "image/png": "[encoded data removed]",
      "text/plain": [
       "<Figure size 432x288 with 1 Axes>"
      ]
     },
     "metadata": {
      "needs_background": "light"
     },
     "output_type": "display_data"
    },
    {
     "name": "stdout",
     "output_type": "stream",
     "text": [
      "Col:  V4\n",
      "Nulls:  0\n",
      "Max:  16.8753440335975\n",
      "Min :  -5.68317119816995\n",
      "Mean:  2.811117739148197e-15\n",
      "Mode:  [-0.84231603  0.63532192]\n"
     ]
    },
    {
     "data": {
      "image/png": "[encoded data removed]",
      "text/plain": [
       "<Figure size 432x288 with 1 Axes>"
      ]
     },
     "metadata": {
      "needs_background": "light"
     },
     "output_type": "display_data"
    },
    {
     "name": "stdout",
     "output_type": "stream",
     "text": [
      "Col:  V5\n",
      "Nulls:  0\n",
      "Max:  34.8016658766686\n",
      "Min :  -113.743306711146\n",
      "Mean:  -1.5521030502078707e-15\n",
      "Mode:  [-0.56277668  2.46307226]\n"
     ]
    },
    {
     "data": {
      "image/png": "[encoded data removed]",
      "text/plain": [
       "<Figure size 432x288 with 1 Axes>"
      ]
     },
     "metadata": {
      "needs_background": "light"
     },
     "output_type": "display_data"
    },
    {
     "name": "stdout",
     "output_type": "stream",
     "text": [
      "Col:  V6\n",
      "Nulls:  0\n",
      "Max:  73.3016255459646\n",
      "Min :  -26.1605059358433\n",
      "Mean:  2.0401296791980286e-15\n",
      "Mode:  [-1.01107262  3.17385642]\n"
     ]
    },
    {
     "data": {
      "image/png": "[encoded data removed]",
      "text/plain": [
       "<Figure size 432x288 with 1 Axes>"
      ]
     },
     "metadata": {
      "needs_background": "light"
     },
     "output_type": "display_data"
    },
    {
     "name": "stdout",
     "output_type": "stream",
     "text": [
      "Col:  V7\n",
      "Nulls:  0\n",
      "Max:  120.589493945238\n",
      "Min :  -43.5572415712451\n",
      "Mean:  -1.6989526516142345e-15\n",
      "Mode:  [-0.43212592  0.01495266]\n"
     ]
    },
    {
     "data": {
      "image/png": "[encoded data removed]",
      "text/plain": [
       "<Figure size 432x288 with 1 Axes>"
      ]
     },
     "metadata": {
      "needs_background": "light"
     },
     "output_type": "display_data"
    },
    {
     "name": "stdout",
     "output_type": "stream",
     "text": [
      "Col:  V8\n",
      "Nulls:  0\n",
      "Max:  20.0072083651213\n",
      "Min :  -73.2167184552674\n",
      "Mean:  -1.893285242852593e-16\n",
      "Mode:  [-0.16021086  0.7277062 ]\n"
     ]
    },
    {
     "data": {
      "image/png": "[encoded data removed]",
      "text/plain": [
       "<Figure size 432x288 with 1 Axes>"
      ]
     },
     "metadata": {
      "needs_background": "light"
     },
     "output_type": "display_data"
    },
    {
     "name": "stdout",
     "output_type": "stream",
     "text": [
      "Col:  V9\n",
      "Nulls:  0\n",
      "Max:  15.5949946071278\n",
      "Min :  -13.4340663182301\n",
      "Mean:  -3.1476403646582977e-15\n",
      "Mode:  [0.17036185 0.60860587]\n"
     ]
    },
    {
     "data": {
      "image/png": "[encoded data removed]",
      "text/plain": [
       "<Figure size 432x288 with 1 Axes>"
      ]
     },
     "metadata": {
      "needs_background": "light"
     },
     "output_type": "display_data"
    },
    {
     "name": "stdout",
     "output_type": "stream",
     "text": [
      "Col:  V10\n",
      "Nulls:  0\n",
      "Max:  23.7451361206545\n",
      "Min :  -24.5882624372475\n",
      "Mean:  1.7729245102328408e-15\n",
      "Mode:  [-0.07518617 -0.04457459]\n"
     ]
    },
    {
     "data": {
      "image/png": "[encoded data removed]",
      "text/plain": [
       "<Figure size 432x288 with 1 Axes>"
      ]
     },
     "metadata": {
      "needs_background": "light"
     },
     "output_type": "display_data"
    },
    {
     "name": "stdout",
     "output_type": "stream",
     "text": [
      "Col:  V11\n",
      "Nulls:  0\n",
      "Max:  12.0189131816199\n",
      "Min :  -4.79747346479757\n",
      "Mean:  9.289523852029893e-16\n",
      "Mode:  [-0.35674902  0.06350446]\n"
     ]
    },
    {
     "data": {
      "image/png": "[encoded data removed]",
      "text/plain": [
       "<Figure size 432x288 with 1 Axes>"
      ]
     },
     "metadata": {
      "needs_background": "light"
     },
     "output_type": "display_data"
    },
    {
     "name": "stdout",
     "output_type": "stream",
     "text": [
      "Col:  V12\n",
      "Nulls:  0\n",
      "Max:  7.8483920756446\n",
      "Min :  -18.6837146333443\n",
      "Mean:  -1.803266027201599e-15\n",
      "Mode:  [-0.07345952  0.35056357]\n"
     ]
    },
    {
     "data": {
      "image/png": "[encoded data removed]",
      "text/plain": [
       "<Figure size 432x288 with 1 Axes>"
      ]
     },
     "metadata": {
      "needs_background": "light"
     },
     "output_type": "display_data"
    },
    {
     "name": "stdout",
     "output_type": "stream",
     "text": [
      "Col:  V13\n",
      "Nulls:  0\n",
      "Max:  7.12688295859376\n",
      "Min :  -5.79188120632084\n",
      "Mean:  1.6748882429362776e-15\n",
      "Mode:  [-0.51775969 -0.14123832]\n"
     ]
    },
    {
     "data": {
      "image/png": "[encoded data removed]",
      "text/plain": [
       "<Figure size 432x288 with 1 Axes>"
      ]
     },
     "metadata": {
      "needs_background": "light"
     },
     "output_type": "display_data"
    },
    {
     "name": "stdout",
     "output_type": "stream",
     "text": [
      "Col:  V14\n",
      "Nulls:  0\n",
      "Max:  10.5267660517847\n",
      "Min :  -19.2143254902614\n",
      "Mean:  1.4756212156133637e-15\n",
      "Mode:  [0.40696893 0.69097162]\n"
     ]
    },
    {
     "data": {
      "image/png": "[encoded data removed]",
      "text/plain": [
       "<Figure size 432x288 with 1 Axes>"
      ]
     },
     "metadata": {
      "needs_background": "light"
     },
     "output_type": "display_data"
    },
    {
     "name": "stdout",
     "output_type": "stream",
     "text": [
      "Col:  V15\n",
      "Nulls:  0\n",
      "Max:  8.87774159774277\n",
      "Min :  -4.49894467676621\n",
      "Mean:  3.5010981285929723e-15\n",
      "Mode:  [1.12414692 1.27525704]\n"
     ]
    },
    {
     "data": {
      "image/png": "[encoded data removed]",
      "text/plain": [
       "<Figure size 432x288 with 1 Axes>"
      ]
     },
     "metadata": {
      "needs_background": "light"
     },
     "output_type": "display_data"
    },
    {
     "name": "stdout",
     "output_type": "stream",
     "text": [
      "Col:  V16\n",
      "Nulls:  0\n",
      "Max:  17.3151115176278\n",
      "Min :  -14.1298545174931\n",
      "Mean:  1.3924602750615145e-15\n",
      "Mode:  [-0.37196213  0.34246975]\n"
     ]
    },
    {
     "data": {
      "image/png": "[encoded data removed]",
      "text/plain": [
       "<Figure size 432x288 with 1 Axes>"
      ]
     },
     "metadata": {
      "needs_background": "light"
     },
     "output_type": "display_data"
    },
    {
     "name": "stdout",
     "output_type": "stream",
     "text": [
      "Col:  V17\n",
      "Nulls:  0\n",
      "Max:  9.25352625047285\n",
      "Min :  -25.1627993693248\n",
      "Mean:  -7.46653801202235e-16\n",
      "Mode:  [-0.6019568  -0.37465644]\n"
     ]
    },
    {
     "data": {
      "image/png": "[encoded data removed]",
      "text/plain": [
       "<Figure size 432x288 with 1 Axes>"
      ]
     },
     "metadata": {
      "needs_background": "light"
     },
     "output_type": "display_data"
    },
    {
     "name": "stdout",
     "output_type": "stream",
     "text": [
      "Col:  V18\n",
      "Nulls:  0\n",
      "Max:  5.04106918541184\n",
      "Min :  -9.49874592104677\n",
      "Mean:  4.25875353393465e-16\n",
      "Mode:  [-0.43899243 -0.05264015]\n"
     ]
    },
    {
     "data": {
      "image/png": "[encoded data removed]",
      "text/plain": [
       "<Figure size 432x288 with 1 Axes>"
      ]
     },
     "metadata": {
      "needs_background": "light"
     },
     "output_type": "display_data"
    },
    {
     "name": "stdout",
     "output_type": "stream",
     "text": [
      "Col:  V19\n",
      "Nulls:  0\n",
      "Max:  5.59197142733558\n",
      "Min :  -7.21352743017759\n",
      "Mean:  9.01991936608283e-16\n",
      "Mode:  [-0.33059045 -0.11609079]\n"
     ]
    },
    {
     "data": {
      "image/png": "[encoded data removed]",
      "text/plain": [
       "<Figure size 432x288 with 1 Axes>"
      ]
     },
     "metadata": {
      "needs_background": "light"
     },
     "output_type": "display_data"
    },
    {
     "name": "stdout",
     "output_type": "stream",
     "text": [
      "Col:  V20\n",
      "Nulls:  0\n",
      "Max:  39.4209042482199\n",
      "Min :  -54.497720494566\n",
      "Mean:  5.126845324048986e-16\n",
      "Mode:  [-0.18037012 -0.13207972]\n"
     ]
    },
    {
     "data": {
      "image/png": "[encoded data removed]",
      "text/plain": [
       "<Figure size 432x288 with 1 Axes>"
      ]
     },
     "metadata": {
      "needs_background": "light"
     },
     "output_type": "display_data"
    },
    {
     "name": "stdout",
     "output_type": "stream",
     "text": [
      "Col:  V21\n",
      "Nulls:  0\n",
      "Max:  27.2028391573154\n",
      "Min :  -34.8303821448146\n",
      "Mean:  1.4731202054036018e-16\n",
      "Mode:  [-0.26258085  0.26976495]\n"
     ]
    },
    {
     "data": {
      "image/png": "[encoded data removed]",
      "text/plain": [
       "<Figure size 432x288 with 1 Axes>"
      ]
     },
     "metadata": {
      "needs_background": "light"
     },
     "output_type": "display_data"
    },
    {
     "name": "stdout",
     "output_type": "stream",
     "text": [
      "Col:  V22\n",
      "Nulls:  0\n",
      "Max:  10.5030900899454\n",
      "Min :  -10.933143697655\n",
      "Mean:  8.042109012847307e-16\n",
      "Mode:  [-0.81626376  0.84462665]\n"
     ]
    },
    {
     "data": {
      "image/png": "[encoded data removed]",
      "text/plain": [
       "<Figure size 432x288 with 1 Axes>"
      ]
     },
     "metadata": {
      "needs_background": "light"
     },
     "output_type": "display_data"
    },
    {
     "name": "stdout",
     "output_type": "stream",
     "text": [
      "Col:  V23\n",
      "Nulls:  0\n",
      "Max:  22.5284116897749\n",
      "Min :  -44.8077352037913\n",
      "Mean:  5.282512464090729e-16\n",
      "Mode:  [0.02067467 0.1403043 ]\n"
     ]
    },
    {
     "data": {
      "image/png": "[encoded data removed]",
      "text/plain": [
       "<Figure size 432x288 with 1 Axes>"
      ]
     },
     "metadata": {
      "needs_background": "light"
     },
     "output_type": "display_data"
    },
    {
     "name": "stdout",
     "output_type": "stream",
     "text": [
      "Col:  V24\n",
      "Nulls:  0\n",
      "Max:  4.58454913689817\n",
      "Min :  -2.83662691870341\n",
      "Mean:  4.4562714572286976e-15\n",
      "Mode:  [0.35782725 0.72621188]\n"
     ]
    },
    {
     "data": {
      "image/png": "[encoded data removed]",
      "text/plain": [
       "<Figure size 432x288 with 1 Axes>"
      ]
     },
     "metadata": {
      "needs_background": "light"
     },
     "output_type": "display_data"
    },
    {
     "name": "stdout",
     "output_type": "stream",
     "text": [
      "Col:  V25\n",
      "Nulls:  0\n",
      "Max:  7.51958867870916\n",
      "Min :  -10.2953970749851\n",
      "Mean:  1.426895638812344e-15\n",
      "Mode:  [0.18642295 0.36662431]\n"
     ]
    },
    {
     "data": {
      "image/png": "[encoded data removed]",
      "text/plain": [
       "<Figure size 432x288 with 1 Axes>"
      ]
     },
     "metadata": {
      "needs_background": "light"
     },
     "output_type": "display_data"
    },
    {
     "name": "stdout",
     "output_type": "stream",
     "text": [
      "Col:  V26\n",
      "Nulls:  0\n",
      "Max:  3.5173456116238\n",
      "Min :  -2.60455055280817\n",
      "Mean:  1.7016396527443826e-15\n",
      "Mode:  [-0.39882751  0.09654447]\n"
     ]
    },
    {
     "data": {
      "image/png": "[encoded data removed]",
      "text/plain": [
       "<Figure size 432x288 with 1 Axes>"
      ]
     },
     "metadata": {
      "needs_background": "light"
     },
     "output_type": "display_data"
    },
    {
     "name": "stdout",
     "output_type": "stream",
     "text": [
      "Col:  V27\n",
      "Nulls:  0\n",
      "Max:  31.6121981061363\n",
      "Min :  -22.5656793207827\n",
      "Mean:  -3.66225168710611e-16\n",
      "Mode:  [-0.03586632  0.02773512]\n"
     ]
    },
    {
     "data": {
      "image/png": "[encoded data removed]",
      "text/plain": [
       "<Figure size 432x288 with 1 Axes>"
      ]
     },
     "metadata": {
      "needs_background": "light"
     },
     "output_type": "display_data"
    },
    {
     "name": "stdout",
     "output_type": "stream",
     "text": [
      "Col:  V28\n",
      "Nulls:  0\n",
      "Max:  33.8478078188831\n",
      "Min :  -15.4300839055349\n",
      "Mean:  -1.2178091119428193e-16\n",
      "Mode:  [-0.06028215  0.01849457]\n"
     ]
    },
    {
     "data": {
      "image/png": "[encoded data removed]",
      "text/plain": [
       "<Figure size 432x288 with 1 Axes>"
      ]
     },
     "metadata": {
      "needs_background": "light"
     },
     "output_type": "display_data"
    },
    {
     "name": "stdout",
     "output_type": "stream",
     "text": [
      "Col:  Amount\n",
      "Nulls:  0\n",
      "Max:  25691.16\n",
      "Min :  0.0\n",
      "Mean:  88.34961925087359\n",
      "Mode:  [1.]\n"
     ]
    },
    {
     "data": {
      "image/png": "[encoded data removed]",
      "text/plain": [
       "<Figure size 432x288 with 1 Axes>"
      ]
     },
     "metadata": {
      "needs_background": "light"
     },
     "output_type": "display_data"
    },
    {
     "name": "stdout",
     "output_type": "stream",
     "text": [
      "Col:  Class\n",
      "Nulls:  0\n",
      "Max:  1\n",
      "Min :  0\n",
      "Mean:  0.001727485630620034\n",
      "Mode:  [0]\n"
     ]
    },
    {
     "data": {
      "image/png": "[encoded data removed]",
      "text/plain": [
       "<Figure size 432x288 with 1 Axes>"
      ]
     },
     "metadata": {
      "needs_background": "light"
     },
     "output_type": "display_data"
    }
   ],
   "source": [
    "for col in data.columns:\n",
    "    print('Col: ', col)\n",
    "    print('Nulls: ', data[col].isnull().sum())\n",
    "    print('Max: ', data[col].max())\n",
    "    print('Min : ', data[col].min())\n",
    "    print('Mean: ', data[col].mean())\n",
    "    print('Mode: ', data[col].mode().values)\n",
    "    sea.histplot(data=data, x=col)\n",
    "    plot.show()"
   ]
  },
  {
   "cell_type": "markdown",
   "id": "c587f309",
   "metadata": {},
   "source": [
    "## 2. [10 pts] Check the class balance and pick an evaluation metric.\n",
    "Since the classes are so unbalanced, I will be using AUC under a precision recall curve and f1 score."
   ]
  },
  {
   "cell_type": "code",
   "execution_count": 4,
   "id": "3c1c3952",
   "metadata": {},
   "outputs": [
    {
     "data": {
      "text/plain": [
       "0    284315\n",
       "1       492\n",
       "Name: Class, dtype: int64"
      ]
     },
     "execution_count": 4,
     "metadata": {},
     "output_type": "execute_result"
    }
   ],
   "source": [
    "labels = data['Class']\n",
    "labels.value_counts()"
   ]
  },
  {
   "cell_type": "markdown",
   "id": "1703e6dc",
   "metadata": {},
   "source": [
    "## 3. [10 pts] Check if you need normalization or standardization, and justify. Complete preprocessing.\n",
    "I will be normalizing the dataset since the range of the columns are extremely different. If a column has a max value of 99 vs another column witha  max value of 1, then the first column may be weighted higher. This is not optimal."
   ]
  },
  {
   "cell_type": "code",
   "execution_count": 5,
   "id": "43c328da",
   "metadata": {},
   "outputs": [
    {
     "name": "stdout",
     "output_type": "stream",
     "text": [
      "Col:  Time\n",
      "Max:  1.0\n",
      "Min :  0.0\n",
      "Mean:  0.5487167205372921\n",
      "Col:  V1\n",
      "Max:  1.0\n",
      "Min :  0.0\n",
      "Mean:  0.9582937777137208\n",
      "Col:  V2\n",
      "Max:  1.0\n",
      "Min :  0.0\n",
      "Mean:  0.7672583675571824\n",
      "Col:  V3\n",
      "Max:  1.0\n",
      "Min :  0.0\n",
      "Mean:  0.8374136271689916\n",
      "Col:  V4\n",
      "Max:  1.0\n",
      "Min :  0.0\n",
      "Mean:  0.2519301975232297\n",
      "Col:  V5\n",
      "Max:  0.9999999999999999\n",
      "Min :  0.0\n",
      "Mean:  0.7657162994453094\n",
      "Col:  V6\n",
      "Max:  0.9999999999999999\n",
      "Min :  0.0\n",
      "Mean:  0.2630197598432574\n",
      "Col:  V7\n",
      "Max:  1.0\n",
      "Min :  0.0\n",
      "Mean:  0.2653555151992079\n",
      "Col:  V8\n",
      "Max:  1.0\n",
      "Min :  0.0\n",
      "Mean:  0.7853854793773328\n",
      "Col:  V9\n",
      "Max:  1.0\n",
      "Min :  0.0\n",
      "Mean:  0.46277991398939505\n",
      "Col:  V10\n",
      "Max:  1.0\n",
      "Min :  0.0\n",
      "Mean:  0.508721984608456\n",
      "Col:  V11\n",
      "Max:  1.0\n",
      "Min :  0.0\n",
      "Mean:  0.28528563035980997\n",
      "Col:  V12\n",
      "Max:  1.0\n",
      "Min :  0.0\n",
      "Mean:  0.7041926537636768\n",
      "Col:  V13\n",
      "Max:  1.0\n",
      "Min :  0.0\n",
      "Mean:  0.4483309032028618\n",
      "Col:  V14\n",
      "Max:  0.9999999999999999\n",
      "Min :  0.0\n",
      "Mean:  0.6460531370577711\n",
      "Col:  V15\n",
      "Max:  1.0\n",
      "Min :  0.0\n",
      "Mean:  0.33632729245803145\n",
      "Col:  V16\n",
      "Max:  1.0\n",
      "Min :  0.0\n",
      "Mean:  0.44935187723567016\n",
      "Col:  V17\n",
      "Max:  0.9999999999999999\n",
      "Min :  0.0\n",
      "Mean:  0.7311297448572119\n",
      "Col:  V18\n",
      "Max:  1.0\n",
      "Min :  0.0\n",
      "Mean:  0.6532920708756029\n",
      "Col:  V19\n",
      "Max:  0.9999999999999999\n",
      "Min :  0.0\n",
      "Mean:  0.5633148314206752\n",
      "Col:  V20\n",
      "Max:  0.9999999999999999\n",
      "Min :  0.0\n",
      "Mean:  0.5802653163184461\n",
      "Col:  V21\n",
      "Max:  0.9999999999999999\n",
      "Min :  0.0\n",
      "Mean:  0.561479501043091\n",
      "Col:  V22\n",
      "Max:  0.9999999999999999\n",
      "Min :  0.0\n",
      "Mean:  0.5100309973284282\n",
      "Col:  V23\n",
      "Max:  1.0\n",
      "Min :  0.0\n",
      "Mean:  0.6654336084097052\n",
      "Col:  V24\n",
      "Max:  1.0\n",
      "Min :  0.0\n",
      "Mean:  0.3822341496079139\n",
      "Col:  V25\n",
      "Max:  1.0\n",
      "Min :  0.0\n",
      "Mean:  0.5779065567229045\n",
      "Col:  V26\n",
      "Max:  1.0\n",
      "Min :  0.0\n",
      "Mean:  0.42544833869292986\n",
      "Col:  V27\n",
      "Max:  1.0\n",
      "Min :  0.0\n",
      "Mean:  0.4165109523019127\n",
      "Col:  V28\n",
      "Max:  1.0\n",
      "Min :  0.0\n",
      "Mean:  0.3131238647916683\n",
      "Col:  Amount\n",
      "Max:  1.0\n",
      "Min :  0.0\n",
      "Mean:  0.0034389112539453003\n"
     ]
    }
   ],
   "source": [
    "X = data.iloc[:, 0:30]\n",
    "scaler = MinMaxScaler() \n",
    "data_scaled = pd.DataFrame(scaler.fit_transform(X), columns=X.columns)\n",
    "for col in data_scaled.columns:\n",
    "    print('Col: ', col)\n",
    "    print('Max: ', data_scaled[col].max())\n",
    "    print('Min : ', data_scaled[col].min())\n",
    "    print('Mean: ', data_scaled[col].mean())"
   ]
  },
  {
   "cell_type": "code",
   "execution_count": 6,
   "id": "a719789a",
   "metadata": {},
   "outputs": [
    {
     "data": {
      "text/html": [
       "<div>\n",
       "<style scoped>\n",
       "    .dataframe tbody tr th:only-of-type {\n",
       "        vertical-align: middle;\n",
       "    }\n",
       "\n",
       "    .dataframe tbody tr th {\n",
       "        vertical-align: top;\n",
       "    }\n",
       "\n",
       "    .dataframe thead th {\n",
       "        text-align: right;\n",
       "    }\n",
       "</style>\n",
       "<table border=\"1\" class=\"dataframe\">\n",
       "  <thead>\n",
       "    <tr style=\"text-align: right;\">\n",
       "      <th></th>\n",
       "      <th>Time</th>\n",
       "      <th>V1</th>\n",
       "      <th>V2</th>\n",
       "      <th>V3</th>\n",
       "      <th>V4</th>\n",
       "      <th>V5</th>\n",
       "      <th>V6</th>\n",
       "      <th>V7</th>\n",
       "      <th>V8</th>\n",
       "      <th>V9</th>\n",
       "      <th>...</th>\n",
       "      <th>V20</th>\n",
       "      <th>V21</th>\n",
       "      <th>V22</th>\n",
       "      <th>V23</th>\n",
       "      <th>V24</th>\n",
       "      <th>V25</th>\n",
       "      <th>V26</th>\n",
       "      <th>V27</th>\n",
       "      <th>V28</th>\n",
       "      <th>Amount</th>\n",
       "    </tr>\n",
       "  </thead>\n",
       "  <tbody>\n",
       "    <tr>\n",
       "      <th>0</th>\n",
       "      <td>0.000000</td>\n",
       "      <td>0.935192</td>\n",
       "      <td>0.766490</td>\n",
       "      <td>0.881365</td>\n",
       "      <td>0.313023</td>\n",
       "      <td>0.763439</td>\n",
       "      <td>0.267669</td>\n",
       "      <td>0.266815</td>\n",
       "      <td>0.786444</td>\n",
       "      <td>0.475312</td>\n",
       "      <td>...</td>\n",
       "      <td>0.582942</td>\n",
       "      <td>0.561184</td>\n",
       "      <td>0.522992</td>\n",
       "      <td>0.663793</td>\n",
       "      <td>0.391253</td>\n",
       "      <td>0.585122</td>\n",
       "      <td>0.394557</td>\n",
       "      <td>0.418976</td>\n",
       "      <td>0.312697</td>\n",
       "      <td>0.005824</td>\n",
       "    </tr>\n",
       "    <tr>\n",
       "      <th>1</th>\n",
       "      <td>0.000000</td>\n",
       "      <td>0.978542</td>\n",
       "      <td>0.770067</td>\n",
       "      <td>0.840298</td>\n",
       "      <td>0.271796</td>\n",
       "      <td>0.766120</td>\n",
       "      <td>0.262192</td>\n",
       "      <td>0.264875</td>\n",
       "      <td>0.786298</td>\n",
       "      <td>0.453981</td>\n",
       "      <td>...</td>\n",
       "      <td>0.579530</td>\n",
       "      <td>0.557840</td>\n",
       "      <td>0.480237</td>\n",
       "      <td>0.666938</td>\n",
       "      <td>0.336440</td>\n",
       "      <td>0.587290</td>\n",
       "      <td>0.446013</td>\n",
       "      <td>0.416345</td>\n",
       "      <td>0.313423</td>\n",
       "      <td>0.000105</td>\n",
       "    </tr>\n",
       "    <tr>\n",
       "      <th>2</th>\n",
       "      <td>0.000006</td>\n",
       "      <td>0.935217</td>\n",
       "      <td>0.753118</td>\n",
       "      <td>0.868141</td>\n",
       "      <td>0.268766</td>\n",
       "      <td>0.762329</td>\n",
       "      <td>0.281122</td>\n",
       "      <td>0.270177</td>\n",
       "      <td>0.788042</td>\n",
       "      <td>0.410603</td>\n",
       "      <td>...</td>\n",
       "      <td>0.585855</td>\n",
       "      <td>0.565477</td>\n",
       "      <td>0.546030</td>\n",
       "      <td>0.678939</td>\n",
       "      <td>0.289354</td>\n",
       "      <td>0.559515</td>\n",
       "      <td>0.402727</td>\n",
       "      <td>0.415489</td>\n",
       "      <td>0.311911</td>\n",
       "      <td>0.014739</td>\n",
       "    </tr>\n",
       "    <tr>\n",
       "      <th>3</th>\n",
       "      <td>0.000006</td>\n",
       "      <td>0.941878</td>\n",
       "      <td>0.765304</td>\n",
       "      <td>0.868484</td>\n",
       "      <td>0.213661</td>\n",
       "      <td>0.765647</td>\n",
       "      <td>0.275559</td>\n",
       "      <td>0.266803</td>\n",
       "      <td>0.789434</td>\n",
       "      <td>0.414999</td>\n",
       "      <td>...</td>\n",
       "      <td>0.578050</td>\n",
       "      <td>0.559734</td>\n",
       "      <td>0.510277</td>\n",
       "      <td>0.662607</td>\n",
       "      <td>0.223826</td>\n",
       "      <td>0.614245</td>\n",
       "      <td>0.389197</td>\n",
       "      <td>0.417669</td>\n",
       "      <td>0.314371</td>\n",
       "      <td>0.004807</td>\n",
       "    </tr>\n",
       "    <tr>\n",
       "      <th>4</th>\n",
       "      <td>0.000012</td>\n",
       "      <td>0.938617</td>\n",
       "      <td>0.776520</td>\n",
       "      <td>0.864251</td>\n",
       "      <td>0.269796</td>\n",
       "      <td>0.762975</td>\n",
       "      <td>0.263984</td>\n",
       "      <td>0.268968</td>\n",
       "      <td>0.782484</td>\n",
       "      <td>0.490950</td>\n",
       "      <td>...</td>\n",
       "      <td>0.584615</td>\n",
       "      <td>0.561327</td>\n",
       "      <td>0.547271</td>\n",
       "      <td>0.663392</td>\n",
       "      <td>0.401270</td>\n",
       "      <td>0.566343</td>\n",
       "      <td>0.507497</td>\n",
       "      <td>0.420561</td>\n",
       "      <td>0.317490</td>\n",
       "      <td>0.002724</td>\n",
       "    </tr>\n",
       "    <tr>\n",
       "      <th>...</th>\n",
       "      <td>...</td>\n",
       "      <td>...</td>\n",
       "      <td>...</td>\n",
       "      <td>...</td>\n",
       "      <td>...</td>\n",
       "      <td>...</td>\n",
       "      <td>...</td>\n",
       "      <td>...</td>\n",
       "      <td>...</td>\n",
       "      <td>...</td>\n",
       "      <td>...</td>\n",
       "      <td>...</td>\n",
       "      <td>...</td>\n",
       "      <td>...</td>\n",
       "      <td>...</td>\n",
       "      <td>...</td>\n",
       "      <td>...</td>\n",
       "      <td>...</td>\n",
       "      <td>...</td>\n",
       "      <td>...</td>\n",
       "      <td>...</td>\n",
       "    </tr>\n",
       "    <tr>\n",
       "      <th>284802</th>\n",
       "      <td>0.999965</td>\n",
       "      <td>0.756448</td>\n",
       "      <td>0.873531</td>\n",
       "      <td>0.666991</td>\n",
       "      <td>0.160317</td>\n",
       "      <td>0.729603</td>\n",
       "      <td>0.236810</td>\n",
       "      <td>0.235393</td>\n",
       "      <td>0.863749</td>\n",
       "      <td>0.528729</td>\n",
       "      <td>...</td>\n",
       "      <td>0.595979</td>\n",
       "      <td>0.564920</td>\n",
       "      <td>0.515249</td>\n",
       "      <td>0.680500</td>\n",
       "      <td>0.313600</td>\n",
       "      <td>0.658558</td>\n",
       "      <td>0.466291</td>\n",
       "      <td>0.433929</td>\n",
       "      <td>0.329840</td>\n",
       "      <td>0.000030</td>\n",
       "    </tr>\n",
       "    <tr>\n",
       "      <th>284803</th>\n",
       "      <td>0.999971</td>\n",
       "      <td>0.945845</td>\n",
       "      <td>0.766677</td>\n",
       "      <td>0.872678</td>\n",
       "      <td>0.219189</td>\n",
       "      <td>0.771561</td>\n",
       "      <td>0.273661</td>\n",
       "      <td>0.265504</td>\n",
       "      <td>0.788548</td>\n",
       "      <td>0.482925</td>\n",
       "      <td>...</td>\n",
       "      <td>0.580900</td>\n",
       "      <td>0.564933</td>\n",
       "      <td>0.553153</td>\n",
       "      <td>0.665619</td>\n",
       "      <td>0.245298</td>\n",
       "      <td>0.543855</td>\n",
       "      <td>0.360884</td>\n",
       "      <td>0.417775</td>\n",
       "      <td>0.312038</td>\n",
       "      <td>0.000965</td>\n",
       "    </tr>\n",
       "    <tr>\n",
       "      <th>284804</th>\n",
       "      <td>0.999977</td>\n",
       "      <td>0.990905</td>\n",
       "      <td>0.764080</td>\n",
       "      <td>0.781102</td>\n",
       "      <td>0.227202</td>\n",
       "      <td>0.783425</td>\n",
       "      <td>0.293496</td>\n",
       "      <td>0.263547</td>\n",
       "      <td>0.792985</td>\n",
       "      <td>0.477677</td>\n",
       "      <td>...</td>\n",
       "      <td>0.580280</td>\n",
       "      <td>0.565220</td>\n",
       "      <td>0.537005</td>\n",
       "      <td>0.664877</td>\n",
       "      <td>0.468492</td>\n",
       "      <td>0.592824</td>\n",
       "      <td>0.411177</td>\n",
       "      <td>0.416593</td>\n",
       "      <td>0.312585</td>\n",
       "      <td>0.002642</td>\n",
       "    </tr>\n",
       "    <tr>\n",
       "      <th>284805</th>\n",
       "      <td>0.999977</td>\n",
       "      <td>0.954209</td>\n",
       "      <td>0.772856</td>\n",
       "      <td>0.849587</td>\n",
       "      <td>0.282508</td>\n",
       "      <td>0.763172</td>\n",
       "      <td>0.269291</td>\n",
       "      <td>0.261175</td>\n",
       "      <td>0.792671</td>\n",
       "      <td>0.476287</td>\n",
       "      <td>...</td>\n",
       "      <td>0.581622</td>\n",
       "      <td>0.565755</td>\n",
       "      <td>0.547353</td>\n",
       "      <td>0.663008</td>\n",
       "      <td>0.398836</td>\n",
       "      <td>0.545958</td>\n",
       "      <td>0.514746</td>\n",
       "      <td>0.418520</td>\n",
       "      <td>0.315245</td>\n",
       "      <td>0.000389</td>\n",
       "    </tr>\n",
       "    <tr>\n",
       "      <th>284806</th>\n",
       "      <td>1.000000</td>\n",
       "      <td>0.949232</td>\n",
       "      <td>0.765256</td>\n",
       "      <td>0.849601</td>\n",
       "      <td>0.229488</td>\n",
       "      <td>0.765632</td>\n",
       "      <td>0.256488</td>\n",
       "      <td>0.274963</td>\n",
       "      <td>0.780938</td>\n",
       "      <td>0.479528</td>\n",
       "      <td>...</td>\n",
       "      <td>0.584343</td>\n",
       "      <td>0.565688</td>\n",
       "      <td>0.540031</td>\n",
       "      <td>0.671029</td>\n",
       "      <td>0.383420</td>\n",
       "      <td>0.551319</td>\n",
       "      <td>0.291786</td>\n",
       "      <td>0.416466</td>\n",
       "      <td>0.313401</td>\n",
       "      <td>0.008446</td>\n",
       "    </tr>\n",
       "  </tbody>\n",
       "</table>\n",
       "<p>284807 rows × 30 columns</p>\n",
       "</div>"
      ],
      "text/plain": [
       "            Time        V1        V2        V3        V4        V5        V6  \\\n",
       "0       0.000000  0.935192  0.766490  0.881365  0.313023  0.763439  0.267669   \n",
       "1       0.000000  0.978542  0.770067  0.840298  0.271796  0.766120  0.262192   \n",
       "2       0.000006  0.935217  0.753118  0.868141  0.268766  0.762329  0.281122   \n",
       "3       0.000006  0.941878  0.765304  0.868484  0.213661  0.765647  0.275559   \n",
       "4       0.000012  0.938617  0.776520  0.864251  0.269796  0.762975  0.263984   \n",
       "...          ...       ...       ...       ...       ...       ...       ...   \n",
       "284802  0.999965  0.756448  0.873531  0.666991  0.160317  0.729603  0.236810   \n",
       "284803  0.999971  0.945845  0.766677  0.872678  0.219189  0.771561  0.273661   \n",
       "284804  0.999977  0.990905  0.764080  0.781102  0.227202  0.783425  0.293496   \n",
       "284805  0.999977  0.954209  0.772856  0.849587  0.282508  0.763172  0.269291   \n",
       "284806  1.000000  0.949232  0.765256  0.849601  0.229488  0.765632  0.256488   \n",
       "\n",
       "              V7        V8        V9  ...       V20       V21       V22  \\\n",
       "0       0.266815  0.786444  0.475312  ...  0.582942  0.561184  0.522992   \n",
       "1       0.264875  0.786298  0.453981  ...  0.579530  0.557840  0.480237   \n",
       "2       0.270177  0.788042  0.410603  ...  0.585855  0.565477  0.546030   \n",
       "3       0.266803  0.789434  0.414999  ...  0.578050  0.559734  0.510277   \n",
       "4       0.268968  0.782484  0.490950  ...  0.584615  0.561327  0.547271   \n",
       "...          ...       ...       ...  ...       ...       ...       ...   \n",
       "284802  0.235393  0.863749  0.528729  ...  0.595979  0.564920  0.515249   \n",
       "284803  0.265504  0.788548  0.482925  ...  0.580900  0.564933  0.553153   \n",
       "284804  0.263547  0.792985  0.477677  ...  0.580280  0.565220  0.537005   \n",
       "284805  0.261175  0.792671  0.476287  ...  0.581622  0.565755  0.547353   \n",
       "284806  0.274963  0.780938  0.479528  ...  0.584343  0.565688  0.540031   \n",
       "\n",
       "             V23       V24       V25       V26       V27       V28    Amount  \n",
       "0       0.663793  0.391253  0.585122  0.394557  0.418976  0.312697  0.005824  \n",
       "1       0.666938  0.336440  0.587290  0.446013  0.416345  0.313423  0.000105  \n",
       "2       0.678939  0.289354  0.559515  0.402727  0.415489  0.311911  0.014739  \n",
       "3       0.662607  0.223826  0.614245  0.389197  0.417669  0.314371  0.004807  \n",
       "4       0.663392  0.401270  0.566343  0.507497  0.420561  0.317490  0.002724  \n",
       "...          ...       ...       ...       ...       ...       ...       ...  \n",
       "284802  0.680500  0.313600  0.658558  0.466291  0.433929  0.329840  0.000030  \n",
       "284803  0.665619  0.245298  0.543855  0.360884  0.417775  0.312038  0.000965  \n",
       "284804  0.664877  0.468492  0.592824  0.411177  0.416593  0.312585  0.002642  \n",
       "284805  0.663008  0.398836  0.545958  0.514746  0.418520  0.315245  0.000389  \n",
       "284806  0.671029  0.383420  0.551319  0.291786  0.416466  0.313401  0.008446  \n",
       "\n",
       "[284807 rows x 30 columns]"
      ]
     },
     "execution_count": 6,
     "metadata": {},
     "output_type": "execute_result"
    }
   ],
   "source": [
    "data_scaled"
   ]
  },
  {
   "cell_type": "markdown",
   "id": "9484c9fb",
   "metadata": {},
   "source": [
    "## 4. [20 pts] Split the dataset 50-50 for training and testing. Then run SVC, DecisionTreeClassifier, MLPClassifier, RandomForest without any tree pruning or regularization. Report the classification performance. Then run SVC, DecisionTreeClassifier, MLPClassifier with tree pruning and regularization<br> (Hint: might use GridSearchCV to optimize the regularization parameters; or simply run a few pilot tests). <br>Report the classification performance."
   ]
  },
  {
   "cell_type": "code",
   "execution_count": 7,
   "id": "b7230c1f",
   "metadata": {},
   "outputs": [],
   "source": [
    "def metrics(name, pred, truth, prob):\n",
    "    precision, recall, thresholds = precision_recall_curve(truth, prob)\n",
    "    AUC = auc(recall, precision)\n",
    "    f1 = f1_score(truth, pred)\n",
    "    print(name)\n",
    "    print('AUC: ', AUC)\n",
    "    print('F1: ', f1)\n",
    "    plot.plot(recall, precision, marker='.', label='Logistic')\n",
    "    plot.show()\n",
    "    "
   ]
  },
  {
   "cell_type": "code",
   "execution_count": 8,
   "id": "2e4622e7",
   "metadata": {},
   "outputs": [],
   "source": [
    "X_train, X_test, y_train, y_test = train_test_split(data_scaled, labels, test_size=0.5, random_state=0)"
   ]
  },
  {
   "cell_type": "code",
   "execution_count": 9,
   "id": "8e12e340",
   "metadata": {},
   "outputs": [
    {
     "name": "stdout",
     "output_type": "stream",
     "text": [
      "142403 249 243\n"
     ]
    }
   ],
   "source": [
    "print(len(y_train), y_train.sum(), y_test.sum())"
   ]
  },
  {
   "cell_type": "code",
   "execution_count": 10,
   "id": "31d5aeab",
   "metadata": {},
   "outputs": [
    {
     "name": "stdout",
     "output_type": "stream",
     "text": [
      "SVC\n",
      "AUC:  0.7181826337081295\n",
      "F1:  0.8078602620087335\n"
     ]
    },
    {
     "data": {
      "image/png": "[encoded data removed]",
      "text/plain": [
       "<Figure size 432x288 with 1 Axes>"
      ]
     },
     "metadata": {
      "needs_background": "light"
     },
     "output_type": "display_data"
    }
   ],
   "source": [
    "svcCLF = SVC(kernel='linear', probability=True)\n",
    "svcCLF.fit(X_train, y_train)\n",
    "y_pred = svcCLF.predict(X_test)\n",
    "y_proba = svcCLF.predict_proba(X_test)\n",
    "y_proba = y_proba[:, 1]\n",
    "metrics('SVC', y_pred, y_test, y_proba)"
   ]
  },
  {
   "cell_type": "code",
   "execution_count": 11,
   "id": "203c8e68",
   "metadata": {},
   "outputs": [
    {
     "name": "stdout",
     "output_type": "stream",
     "text": [
      "Decision Tree\n",
      "AUC:  0.764465742522979\n",
      "F1:  0.7640918580375783\n"
     ]
    },
    {
     "data": {
      "image/png": "[encoded data removed]",
      "text/plain": [
       "<Figure size 432x288 with 1 Axes>"
      ]
     },
     "metadata": {
      "needs_background": "light"
     },
     "output_type": "display_data"
    }
   ],
   "source": [
    "dtCLF = DecisionTreeClassifier(random_state=0)\n",
    "dtCLF.fit(X_train, y_train)\n",
    "y_pred = dtCLF.predict(X_test)\n",
    "y_proba = dtCLF.predict_proba(X_test)\n",
    "y_proba = y_proba[:, 1]\n",
    "metrics('Decision Tree', y_pred, y_test, y_proba)"
   ]
  },
  {
   "cell_type": "code",
   "execution_count": 12,
   "id": "bd93c0c7",
   "metadata": {},
   "outputs": [
    {
     "name": "stdout",
     "output_type": "stream",
     "text": [
      "MLP\n",
      "AUC:  0.7564177154700668\n",
      "F1:  0.7084337349397589\n"
     ]
    },
    {
     "data": {
      "image/png": "[encoded data removed]",
      "text/plain": [
       "<Figure size 432x288 with 1 Axes>"
      ]
     },
     "metadata": {
      "needs_background": "light"
     },
     "output_type": "display_data"
    }
   ],
   "source": [
    "mlpCLF = MLPClassifier(random_state=1, max_iter=300)\n",
    "mlpCLF.fit(X_train, y_train)\n",
    "y_pred = mlpCLF.predict(X_test)\n",
    "y_proba = mlpCLF.predict_proba(X_test)\n",
    "y_proba = y_proba[:, 1]\n",
    "metrics('MLP', y_pred, y_test, y_proba)"
   ]
  },
  {
   "cell_type": "code",
   "execution_count": 13,
   "id": "5a51cced",
   "metadata": {},
   "outputs": [
    {
     "name": "stdout",
     "output_type": "stream",
     "text": [
      "Random Forest\n",
      "AUC:  0.8282983707586578\n",
      "F1:  0.8447488584474886\n"
     ]
    },
    {
     "data": {
      "image/png": "[encoded data removed]",
      "text/plain": [
       "<Figure size 432x288 with 1 Axes>"
      ]
     },
     "metadata": {
      "needs_background": "light"
     },
     "output_type": "display_data"
    }
   ],
   "source": [
    "rfCLF = RandomForestClassifier()\n",
    "rfCLF.fit(X_train, y_train)\n",
    "y_pred = rfCLF.predict(X_test)\n",
    "y_proba = rfCLF.predict_proba(X_test)\n",
    "y_proba = y_proba[:, 1]\n",
    "metrics('Random Forest', y_pred, y_test, y_proba)"
   ]
  },
  {
   "cell_type": "markdown",
   "id": "2f9f6fcb",
   "metadata": {},
   "source": [
    "## 5. [30 pts] Script a PyTorch neural network with a hidden layer (might experiment with 2 hidden layers, size might be 20 to 40). Report the classification performance on the previous 50-50 dataset. Expect a similar performance to the neural network in Q4.\n",
    "At first, I was using the RProp optimizer with a learning rate of 0.001. This gave me classification of all 0s. When I switched to Adam, this helped a lot. The best performing neural net seems to be a single layer with no drop out and a learning rate of 0.01. The learning rate of the dropout network must be 0.001 or else it will do worse than guessing."
   ]
  },
  {
   "cell_type": "code",
   "execution_count": 14,
   "id": "e223ad9e",
   "metadata": {},
   "outputs": [
    {
     "name": "stdout",
     "output_type": "stream",
     "text": [
      "PyTorch version= 1.9.1\n",
      "CUDA available= False\n"
     ]
    }
   ],
   "source": [
    "##This class is built using a lot of the same idea as the class module, but I wanted to add some improvements so it isn't copying\n",
    "print(f'PyTorch version= {torch.__version__}')\n",
    "print(f'CUDA available= {torch.cuda.is_available()}')\n",
    "class PNN(torch.nn.Module):\n",
    "    def __init__(self, size =2, n_hidden=[20,10], epochs=100, eta=0.001, batch=64, dropout=False, seed=0):\n",
    "        assert isinstance(n_hidden, list), 'Not a list'\n",
    "        super(PNN, self).__init__()\n",
    "        self.flatten = torch.nn.Flatten()\n",
    "        if (not size == 1 and not size == 2):\n",
    "            self.size = 2\n",
    "        else:\n",
    "            self.size = size\n",
    "        if (not len(n_hidden) == self.size and self.size == 1):\n",
    "            self.n_hidden = [20]\n",
    "        elif (not len(n_hidden) == self.size and self.size == 2):\n",
    "            self.n_hidden = [20,10]\n",
    "        else:\n",
    "            self.n_hidden=n_hidden\n",
    "        self.epochs = epochs\n",
    "        self.eta = eta\n",
    "        self.batch = batch\n",
    "        self.dropout= dropout\n",
    "        self.random = np.random.RandomState(seed)\n",
    "        class_weights=torch.tensor([.1,.9],dtype=torch.float)\n",
    "        self.loss_func = torch.nn.CrossEntropyLoss(weight=class_weights)\n",
    "        self.model = None\n",
    "        print('Size: ', self.size, '  n_hidden: ', self.n_hidden)\n",
    "        \n",
    "    def init_layers(self, input_size, output_size):\n",
    "        if(self.dropout):\n",
    "            if(self.size ==1):\n",
    "                self.model = torch.nn.Sequential(\n",
    "                    torch.nn.Linear(input_size, self.n_hidden[0]),\n",
    "                    torch.nn.Sigmoid(),\n",
    "                    torch.nn.Linear(self.n_hidden[0], self.n_hidden[0]),\n",
    "                    torch.nn.ReLU(),\n",
    "                    torch.nn.Dropout(0.2),\n",
    "                    torch.nn.Linear(self.n_hidden[0], output_size)\n",
    "                )\n",
    "            else:\n",
    "                self.model = torch.nn.Sequential(\n",
    "                    torch.nn.Linear(input_size, self.n_hidden[0]),\n",
    "                    torch.nn.Sigmoid(),\n",
    "                    torch.nn.Linear(self.n_hidden[0], self.n_hidden[0]),\n",
    "                    torch.nn.Sigmoid(),\n",
    "                    torch.nn.Linear(self.n_hidden[0], self.n_hidden[1]),\n",
    "                    torch.nn.ReLU(),\n",
    "                    torch.nn.Dropout(0.2),\n",
    "                    torch.nn.Linear(self.n_hidden[1], output_size)\n",
    "                )\n",
    "        else:\n",
    "            if(self.size ==1):\n",
    "                self.model = torch.nn.Sequential(\n",
    "                    torch.nn.Linear(input_size, self.n_hidden[0]),\n",
    "                    torch.nn.Sigmoid(),\n",
    "                    torch.nn.Linear(self.n_hidden[0], self.n_hidden[0]),\n",
    "                    torch.nn.Sigmoid(),\n",
    "                    torch.nn.Linear(self.n_hidden[0], output_size)\n",
    "                )\n",
    "            else:\n",
    "                self.model = torch.nn.Sequential(\n",
    "                    torch.nn.Linear(input_size, self.n_hidden[0]),\n",
    "                    torch.nn.Sigmoid(),\n",
    "                    torch.nn.Linear(self.n_hidden[0], self.n_hidden[0]),\n",
    "                    torch.nn.Sigmoid(),\n",
    "                    torch.nn.Linear(self.n_hidden[0], self.n_hidden[1]),\n",
    "                    torch.nn.Sigmoid(),\n",
    "                    torch.nn.Linear(self.n_hidden[1], output_size)\n",
    "                )\n",
    "                \n",
    "    def predict(self, _X):\n",
    "        _X = torch.FloatTensor(_X)\n",
    "        assert self.model != None\n",
    "        self.model.eval()\n",
    "        with torch.no_grad():\n",
    "            y_pred = np.argmax(self.model(_X), axis=1)\n",
    "        self.model.train()\n",
    "        return y_pred.numpy()\n",
    "    \n",
    "    def predict_proba(self, _X):\n",
    "        _X = torch.FloatTensor(_X)\n",
    "        softmax = torch.nn.Softmax(dim=1)\n",
    "        assert self.model != None\n",
    "        self.model.eval()\n",
    "        with torch.no_grad():\n",
    "            y_pred = softmax(self.model(_X))\n",
    "        self.model.train()\n",
    "        return y_pred.numpy()\n",
    "    \n",
    "    def fit(self, _X_train, _y_train, info=False):\n",
    "        _X_train, _y_train = torch.FloatTensor(_X_train), torch.LongTensor(_y_train)\n",
    "        n_features = _X_train.shape[1]\n",
    "        n_output= np.unique(_y_train).shape[0]  # number of class labels\n",
    "        \n",
    "        self.init_layers(n_features, n_output)\n",
    "\n",
    "        self.optimizer = torch.optim.Adam(self.model.parameters(), lr=self.eta)\n",
    "\n",
    "        totloss = 0\n",
    "        for i in tqdm(range(self.epochs)):\n",
    "            indices = np.arange(_X_train.shape[0])\n",
    "            self.random.shuffle(indices)  # shuffle the data each epoch\n",
    "\n",
    "            for start_idx in range(0, indices.shape[0] - self.batch + 1, self.batch):\n",
    "                batch_idx = indices[start_idx:start_idx + self.batch]\n",
    "                self.optimizer.zero_grad()\n",
    "                \n",
    "                net_out = self.model(_X_train[batch_idx])\n",
    "                \n",
    "                loss = self.loss_func(net_out, _y_train[batch_idx])\n",
    "                loss.backward()\n",
    "                self.optimizer.step()\n",
    "        return self"
   ]
  },
  {
   "cell_type": "code",
   "execution_count": 15,
   "id": "6927dc57",
   "metadata": {},
   "outputs": [
    {
     "name": "stdout",
     "output_type": "stream",
     "text": [
      "Size:  1   n_hidden:  [20]\n",
      "Size:  2   n_hidden:  [20, 10]\n",
      "Size:  2   n_hidden:  [20, 10]\n"
     ]
    }
   ],
   "source": [
    "hiddenCheck1 = PNN(1,[20,10],100, 0.001, 64, False) ## verifying that this checks to make sure size and n_hidden match\n",
    "hiddenCheck2 = PNN(2,[20],100, 0.001, 64, False)\n",
    "hiddenCheck3 = PNN(3,[20],100, 0.001, 64, False)\n",
    "#hiddenCheck4 = PNN(1,20,100, 0.001, 64, False) ##Will throw an assertion error since not a list"
   ]
  },
  {
   "cell_type": "code",
   "execution_count": 16,
   "id": "a2d79235",
   "metadata": {},
   "outputs": [
    {
     "name": "stderr",
     "output_type": "stream",
     "text": [
      "\r",
      "  0%|          | 0/50 [00:00<?, ?it/s]"
     ]
    },
    {
     "name": "stdout",
     "output_type": "stream",
     "text": [
      "Size:  1   n_hidden:  [20]\n"
     ]
    },
    {
     "name": "stderr",
     "output_type": "stream",
     "text": [
      "100%|██████████| 50/50 [01:20<00:00,  1.61s/it]\n"
     ]
    },
    {
     "name": "stdout",
     "output_type": "stream",
     "text": [
      "142404 255 243\n",
      "Single Layer Neural\n",
      "AUC:  0.7326824765731716\n",
      "F1:  0.7871485943775101\n"
     ]
    },
    {
     "data": {
      "image/png": "[encoded data removed]",
      "text/plain": [
       "<Figure size 432x288 with 1 Axes>"
      ]
     },
     "metadata": {
      "needs_background": "light"
     },
     "output_type": "display_data"
    }
   ],
   "source": [
    "PNN1 = PNN(1,[20],50, 0.01, 64, False).fit(X_train.to_numpy(),y_train.to_numpy())\n",
    "y_pred = PNN1.predict(X_test.to_numpy())\n",
    "y_proba = PNN1.predict_proba(X_test.to_numpy())\n",
    "y_proba = y_proba[:, 1]\n",
    "print(len(y_pred), y_pred.sum(), y_test.sum())\n",
    "metrics('Single Layer Neural', y_pred, y_test, y_proba)"
   ]
  },
  {
   "cell_type": "code",
   "execution_count": 17,
   "id": "e3152e76",
   "metadata": {},
   "outputs": [
    {
     "name": "stderr",
     "output_type": "stream",
     "text": [
      "\r",
      "  0%|          | 0/50 [00:00<?, ?it/s]"
     ]
    },
    {
     "name": "stdout",
     "output_type": "stream",
     "text": [
      "Size:  2   n_hidden:  [20, 10]\n"
     ]
    },
    {
     "name": "stderr",
     "output_type": "stream",
     "text": [
      "100%|██████████| 50/50 [01:36<00:00,  1.93s/it]\n"
     ]
    },
    {
     "name": "stdout",
     "output_type": "stream",
     "text": [
      "142404 229 243\n",
      "Double Layer Neural\n",
      "AUC:  0.7101466646655938\n",
      "F1:  0.8135593220338982\n"
     ]
    },
    {
     "data": {
      "image/png": "[encoded data removed]",
      "text/plain": [
       "<Figure size 432x288 with 1 Axes>"
      ]
     },
     "metadata": {
      "needs_background": "light"
     },
     "output_type": "display_data"
    }
   ],
   "source": [
    "PNN2 = PNN(2,[20,10],50, 0.01, 64, False).fit(X_train.to_numpy(),y_train.to_numpy())\n",
    "y_pred = PNN2.predict(X_test.to_numpy())\n",
    "y_proba = PNN2.predict_proba(X_test.to_numpy())\n",
    "y_proba = y_proba[:, 1]\n",
    "print(len(y_pred), y_pred.sum(), y_test.sum())\n",
    "metrics('Double Layer Neural', y_pred, y_test, y_proba)"
   ]
  },
  {
   "cell_type": "markdown",
   "id": "73a16bda",
   "metadata": {},
   "source": [
    "## 6. [10 pts] Add dropout to the PyTorch neural network and repeat the previous step."
   ]
  },
  {
   "cell_type": "code",
   "execution_count": 18,
   "id": "15beff71",
   "metadata": {},
   "outputs": [
    {
     "name": "stderr",
     "output_type": "stream",
     "text": [
      "\r",
      "  0%|          | 0/50 [00:00<?, ?it/s]"
     ]
    },
    {
     "name": "stdout",
     "output_type": "stream",
     "text": [
      "Size:  2   n_hidden:  [20, 10]\n"
     ]
    },
    {
     "name": "stderr",
     "output_type": "stream",
     "text": [
      "100%|██████████| 50/50 [01:43<00:00,  2.06s/it]\n"
     ]
    },
    {
     "name": "stdout",
     "output_type": "stream",
     "text": [
      "DROP Single Layer Neural\n",
      "AUC:  0.7406385102575044\n",
      "F1:  0.761904761904762\n"
     ]
    },
    {
     "data": {
      "image/png": "[encoded data removed]",
      "text/plain": [
       "<Figure size 432x288 with 1 Axes>"
      ]
     },
     "metadata": {
      "needs_background": "light"
     },
     "output_type": "display_data"
    }
   ],
   "source": [
    "PNNDROP = PNN(2,[20,10],50, 0.01, 64, True).fit(X_train.to_numpy(),y_train.to_numpy())\n",
    "y_pred = PNNDROP.predict(X_test.to_numpy())\n",
    "y_proba = PNNDROP.predict_proba(X_test.to_numpy())\n",
    "y_proba = y_proba[:, 1]\n",
    "metrics('DROP Single Layer Neural', y_pred, y_test, y_proba)"
   ]
  },
  {
   "cell_type": "markdown",
   "id": "ad24b664",
   "metadata": {},
   "source": [
    "## 7. [10 pts] Evaluate the 10-fold cross validation of Random Forest and two PyTorch neural network from Q5. and Q6. Comment about results.\n",
    "I had to put some limits on the classifiers for time reasons. Random Forst has 5 estimators, and the neural networks both have 2 epochs. For these reasons, the Random Forest consistantly does better. If the neural networks had more time to train and were more refined (possibly 5-6 layers made by someone with more experience), then they would most likely do better."
   ]
  },
  {
   "cell_type": "code",
   "execution_count": 19,
   "id": "59e12b06",
   "metadata": {},
   "outputs": [],
   "source": [
    "X = data_scaled.to_numpy()\n",
    "labels = labels.to_numpy()"
   ]
  },
  {
   "cell_type": "code",
   "execution_count": 20,
   "id": "664c54d4",
   "metadata": {},
   "outputs": [
    {
     "name": "stdout",
     "output_type": "stream",
     "text": [
      "1 Random Forest\n",
      "AUC:  0.642177333682288\n",
      "F1:  0.6974358974358974\n"
     ]
    },
    {
     "data": {
      "image/png": "[encoded data removed]",
      "text/plain": [
       "<Figure size 432x288 with 1 Axes>"
      ]
     },
     "metadata": {
      "needs_background": "light"
     },
     "output_type": "display_data"
    },
    {
     "name": "stderr",
     "output_type": "stream",
     "text": [
      "\r",
      "  0%|          | 0/2 [00:00<?, ?it/s]"
     ]
    },
    {
     "name": "stdout",
     "output_type": "stream",
     "text": [
      "Size:  1   n_hidden:  [20]\n"
     ]
    },
    {
     "name": "stderr",
     "output_type": "stream",
     "text": [
      "100%|██████████| 2/2 [00:05<00:00,  2.94s/it]"
     ]
    },
    {
     "name": "stdout",
     "output_type": "stream",
     "text": [
      "28481 235 93\n",
      "1 Double Layer Neural\n",
      "AUC:  0.6839296830731292\n",
      "F1:  0.5182926829268293\n"
     ]
    },
    {
     "name": "stderr",
     "output_type": "stream",
     "text": [
      "\n"
     ]
    },
    {
     "data": {
      "image/png": "[encoded data removed]",
      "text/plain": [
       "<Figure size 432x288 with 1 Axes>"
      ]
     },
     "metadata": {
      "needs_background": "light"
     },
     "output_type": "display_data"
    },
    {
     "name": "stderr",
     "output_type": "stream",
     "text": [
      "\r",
      "  0%|          | 0/2 [00:00<?, ?it/s]"
     ]
    },
    {
     "name": "stdout",
     "output_type": "stream",
     "text": [
      "Size:  1   n_hidden:  [20]\n"
     ]
    },
    {
     "name": "stderr",
     "output_type": "stream",
     "text": [
      "100%|██████████| 2/2 [00:06<00:00,  3.34s/it]"
     ]
    },
    {
     "name": "stdout",
     "output_type": "stream",
     "text": [
      "28481 103 93\n",
      "1 DROP Double Layer Neural\n",
      "AUC:  0.6830598671324685\n",
      "F1:  0.7244897959183674\n"
     ]
    },
    {
     "name": "stderr",
     "output_type": "stream",
     "text": [
      "\n"
     ]
    },
    {
     "data": {
      "image/png": "[encoded data removed]",
      "text/plain": [
       "<Figure size 432x288 with 1 Axes>"
      ]
     },
     "metadata": {
      "needs_background": "light"
     },
     "output_type": "display_data"
    },
    {
     "name": "stdout",
     "output_type": "stream",
     "text": [
      "2 Random Forest\n",
      "AUC:  0.8930301540921507\n",
      "F1:  0.8852459016393444\n"
     ]
    },
    {
     "data": {
      "image/png": "[encoded data removed]",
      "text/plain": [
       "<Figure size 432x288 with 1 Axes>"
      ]
     },
     "metadata": {
      "needs_background": "light"
     },
     "output_type": "display_data"
    },
    {
     "name": "stderr",
     "output_type": "stream",
     "text": [
      "\r",
      "  0%|          | 0/2 [00:00<?, ?it/s]"
     ]
    },
    {
     "name": "stdout",
     "output_type": "stream",
     "text": [
      "Size:  1   n_hidden:  [20]\n"
     ]
    },
    {
     "name": "stderr",
     "output_type": "stream",
     "text": [
      "100%|██████████| 2/2 [00:05<00:00,  2.85s/it]"
     ]
    },
    {
     "name": "stdout",
     "output_type": "stream",
     "text": [
      "28481 117 64\n",
      "2 Double Layer Neural\n",
      "AUC:  0.8885632074109526\n",
      "F1:  0.6408839779005525\n"
     ]
    },
    {
     "name": "stderr",
     "output_type": "stream",
     "text": [
      "\n"
     ]
    },
    {
     "data": {
      "image/png": "[encoded data removed]",
      "text/plain": [
       "<Figure size 432x288 with 1 Axes>"
      ]
     },
     "metadata": {
      "needs_background": "light"
     },
     "output_type": "display_data"
    },
    {
     "name": "stderr",
     "output_type": "stream",
     "text": [
      "\r",
      "  0%|          | 0/2 [00:00<?, ?it/s]"
     ]
    },
    {
     "name": "stdout",
     "output_type": "stream",
     "text": [
      "Size:  1   n_hidden:  [20]\n"
     ]
    },
    {
     "name": "stderr",
     "output_type": "stream",
     "text": [
      "100%|██████████| 2/2 [00:06<00:00,  3.40s/it]"
     ]
    },
    {
     "name": "stdout",
     "output_type": "stream",
     "text": [
      "28481 51 64\n",
      "2 DROP Double Layer Neural\n",
      "AUC:  0.8780241459423547\n",
      "F1:  0.8173913043478261\n"
     ]
    },
    {
     "name": "stderr",
     "output_type": "stream",
     "text": [
      "\n"
     ]
    },
    {
     "data": {
      "image/png": "[encoded data removed]",
      "text/plain": [
       "<Figure size 432x288 with 1 Axes>"
      ]
     },
     "metadata": {
      "needs_background": "light"
     },
     "output_type": "display_data"
    },
    {
     "name": "stdout",
     "output_type": "stream",
     "text": [
      "3 Random Forest\n",
      "AUC:  0.8411888908625064\n",
      "F1:  0.8571428571428571\n"
     ]
    },
    {
     "data": {
      "image/png": "[encoded data removed]",
      "text/plain": [
       "<Figure size 432x288 with 1 Axes>"
      ]
     },
     "metadata": {
      "needs_background": "light"
     },
     "output_type": "display_data"
    },
    {
     "name": "stderr",
     "output_type": "stream",
     "text": [
      "\r",
      "  0%|          | 0/2 [00:00<?, ?it/s]"
     ]
    },
    {
     "name": "stdout",
     "output_type": "stream",
     "text": [
      "Size:  1   n_hidden:  [20]\n"
     ]
    },
    {
     "name": "stderr",
     "output_type": "stream",
     "text": [
      "100%|██████████| 2/2 [00:05<00:00,  2.81s/it]"
     ]
    },
    {
     "name": "stdout",
     "output_type": "stream",
     "text": [
      "28481 52 47\n",
      "3 Double Layer Neural\n",
      "AUC:  0.7514743114348958\n",
      "F1:  0.7474747474747475\n"
     ]
    },
    {
     "name": "stderr",
     "output_type": "stream",
     "text": [
      "\n"
     ]
    },
    {
     "data": {
      "image/png": "[encoded data removed]",
      "text/plain": [
       "<Figure size 432x288 with 1 Axes>"
      ]
     },
     "metadata": {
      "needs_background": "light"
     },
     "output_type": "display_data"
    },
    {
     "name": "stderr",
     "output_type": "stream",
     "text": [
      "\r",
      "  0%|          | 0/2 [00:00<?, ?it/s]"
     ]
    },
    {
     "name": "stdout",
     "output_type": "stream",
     "text": [
      "Size:  1   n_hidden:  [20]\n"
     ]
    },
    {
     "name": "stderr",
     "output_type": "stream",
     "text": [
      "100%|██████████| 2/2 [00:07<00:00,  3.59s/it]"
     ]
    },
    {
     "name": "stdout",
     "output_type": "stream",
     "text": [
      "28481 22 47\n",
      "3 DROP Double Layer Neural\n",
      "AUC:  0.7141843434513383\n",
      "F1:  0.5797101449275361\n"
     ]
    },
    {
     "name": "stderr",
     "output_type": "stream",
     "text": [
      "\n"
     ]
    },
    {
     "data": {
      "image/png": "[encoded data removed]",
      "text/plain": [
       "<Figure size 432x288 with 1 Axes>"
      ]
     },
     "metadata": {
      "needs_background": "light"
     },
     "output_type": "display_data"
    },
    {
     "name": "stdout",
     "output_type": "stream",
     "text": [
      "4 Random Forest\n",
      "AUC:  0.7632264742303014\n",
      "F1:  0.7936507936507937\n"
     ]
    },
    {
     "data": {
      "image/png": "[encoded data removed]",
      "text/plain": [
       "<Figure size 432x288 with 1 Axes>"
      ]
     },
     "metadata": {
      "needs_background": "light"
     },
     "output_type": "display_data"
    },
    {
     "name": "stderr",
     "output_type": "stream",
     "text": [
      "\r",
      "  0%|          | 0/2 [00:00<?, ?it/s]"
     ]
    },
    {
     "name": "stdout",
     "output_type": "stream",
     "text": [
      "Size:  1   n_hidden:  [20]\n"
     ]
    },
    {
     "name": "stderr",
     "output_type": "stream",
     "text": [
      "100%|██████████| 2/2 [00:05<00:00,  2.76s/it]\n"
     ]
    },
    {
     "name": "stdout",
     "output_type": "stream",
     "text": [
      "28481 61 37\n",
      "4 Double Layer Neural\n",
      "AUC:  0.7198369144766651\n",
      "F1:  0.5306122448979592\n"
     ]
    },
    {
     "data": {
      "image/png": "[encoded data removed]",
      "text/plain": [
       "<Figure size 432x288 with 1 Axes>"
      ]
     },
     "metadata": {
      "needs_background": "light"
     },
     "output_type": "display_data"
    },
    {
     "name": "stderr",
     "output_type": "stream",
     "text": [
      "\r",
      "  0%|          | 0/2 [00:00<?, ?it/s]"
     ]
    },
    {
     "name": "stdout",
     "output_type": "stream",
     "text": [
      "Size:  1   n_hidden:  [20]\n"
     ]
    },
    {
     "name": "stderr",
     "output_type": "stream",
     "text": [
      "100%|██████████| 2/2 [00:06<00:00,  3.35s/it]"
     ]
    },
    {
     "name": "stdout",
     "output_type": "stream",
     "text": [
      "28481 18 37\n",
      "4 DROP Double Layer Neural\n",
      "AUC:  0.6845327814579617\n",
      "F1:  0.6545454545454547\n"
     ]
    },
    {
     "name": "stderr",
     "output_type": "stream",
     "text": [
      "\n"
     ]
    },
    {
     "data": {
      "image/png": "[encoded data removed]",
      "text/plain": [
       "<Figure size 432x288 with 1 Axes>"
      ]
     },
     "metadata": {
      "needs_background": "light"
     },
     "output_type": "display_data"
    },
    {
     "name": "stdout",
     "output_type": "stream",
     "text": [
      "5 Random Forest\n",
      "AUC:  0.7504196477379117\n",
      "F1:  0.6923076923076924\n"
     ]
    },
    {
     "data": {
      "image/png": "[encoded data removed]",
      "text/plain": [
       "<Figure size 432x288 with 1 Axes>"
      ]
     },
     "metadata": {
      "needs_background": "light"
     },
     "output_type": "display_data"
    },
    {
     "name": "stderr",
     "output_type": "stream",
     "text": [
      "\r",
      "  0%|          | 0/2 [00:00<?, ?it/s]"
     ]
    },
    {
     "name": "stdout",
     "output_type": "stream",
     "text": [
      "Size:  1   n_hidden:  [20]\n"
     ]
    },
    {
     "name": "stderr",
     "output_type": "stream",
     "text": [
      "100%|██████████| 2/2 [00:05<00:00,  2.83s/it]"
     ]
    },
    {
     "name": "stdout",
     "output_type": "stream",
     "text": [
      "28481 46 28\n",
      "5 Double Layer Neural\n",
      "AUC:  0.6371321289954145\n",
      "F1:  0.5135135135135135\n"
     ]
    },
    {
     "name": "stderr",
     "output_type": "stream",
     "text": [
      "\n"
     ]
    },
    {
     "data": {
      "image/png": "[encoded data removed]",
      "text/plain": [
       "<Figure size 432x288 with 1 Axes>"
      ]
     },
     "metadata": {
      "needs_background": "light"
     },
     "output_type": "display_data"
    },
    {
     "name": "stderr",
     "output_type": "stream",
     "text": [
      "\r",
      "  0%|          | 0/2 [00:00<?, ?it/s]"
     ]
    },
    {
     "name": "stdout",
     "output_type": "stream",
     "text": [
      "Size:  1   n_hidden:  [20]\n"
     ]
    },
    {
     "name": "stderr",
     "output_type": "stream",
     "text": [
      "100%|██████████| 2/2 [00:06<00:00,  3.29s/it]\n"
     ]
    },
    {
     "name": "stdout",
     "output_type": "stream",
     "text": [
      "28481 16 28\n",
      "5 DROP Double Layer Neural\n",
      "AUC:  0.5804731984417489\n",
      "F1:  0.5909090909090908\n"
     ]
    },
    {
     "data": {
      "image/png": "[encoded data removed]",
      "text/plain": [
       "<Figure size 432x288 with 1 Axes>"
      ]
     },
     "metadata": {
      "needs_background": "light"
     },
     "output_type": "display_data"
    },
    {
     "name": "stdout",
     "output_type": "stream",
     "text": [
      "6 Random Forest\n",
      "AUC:  0.8287261171067148\n",
      "F1:  0.8379888268156425\n"
     ]
    },
    {
     "data": {
      "image/png": "[encoded data removed]",
      "text/plain": [
       "<Figure size 432x288 with 1 Axes>"
      ]
     },
     "metadata": {
      "needs_background": "light"
     },
     "output_type": "display_data"
    },
    {
     "name": "stderr",
     "output_type": "stream",
     "text": [
      "\r",
      "  0%|          | 0/2 [00:00<?, ?it/s]"
     ]
    },
    {
     "name": "stdout",
     "output_type": "stream",
     "text": [
      "Size:  1   n_hidden:  [20]\n"
     ]
    },
    {
     "name": "stderr",
     "output_type": "stream",
     "text": [
      "100%|██████████| 2/2 [00:05<00:00,  2.93s/it]"
     ]
    },
    {
     "name": "stdout",
     "output_type": "stream",
     "text": [
      "28481 204 91\n",
      "6 Double Layer Neural\n",
      "AUC:  0.8681550512389326\n",
      "F1:  0.5423728813559322\n"
     ]
    },
    {
     "name": "stderr",
     "output_type": "stream",
     "text": [
      "\n"
     ]
    },
    {
     "data": {
      "image/png": "[encoded data removed]",
      "text/plain": [
       "<Figure size 432x288 with 1 Axes>"
      ]
     },
     "metadata": {
      "needs_background": "light"
     },
     "output_type": "display_data"
    },
    {
     "name": "stderr",
     "output_type": "stream",
     "text": [
      "\r",
      "  0%|          | 0/2 [00:00<?, ?it/s]"
     ]
    },
    {
     "name": "stdout",
     "output_type": "stream",
     "text": [
      "Size:  1   n_hidden:  [20]\n"
     ]
    },
    {
     "name": "stderr",
     "output_type": "stream",
     "text": [
      "100%|██████████| 2/2 [00:06<00:00,  3.49s/it]"
     ]
    },
    {
     "name": "stdout",
     "output_type": "stream",
     "text": [
      "28481 69 91\n",
      "6 DROP Double Layer Neural\n",
      "AUC:  0.856278457333371\n",
      "F1:  0.8250000000000001\n"
     ]
    },
    {
     "name": "stderr",
     "output_type": "stream",
     "text": [
      "\n"
     ]
    },
    {
     "data": {
      "image/png": "[encoded data removed]",
      "text/plain": [
       "<Figure size 432x288 with 1 Axes>"
      ]
     },
     "metadata": {
      "needs_background": "light"
     },
     "output_type": "display_data"
    },
    {
     "name": "stdout",
     "output_type": "stream",
     "text": [
      "7 Random Forest\n",
      "AUC:  0.6845209917919515\n",
      "F1:  0.761904761904762\n"
     ]
    },
    {
     "data": {
      "image/png": "[encoded data removed]",
      "text/plain": [
       "<Figure size 432x288 with 1 Axes>"
      ]
     },
     "metadata": {
      "needs_background": "light"
     },
     "output_type": "display_data"
    },
    {
     "name": "stderr",
     "output_type": "stream",
     "text": [
      "\r",
      "  0%|          | 0/2 [00:00<?, ?it/s]"
     ]
    },
    {
     "name": "stdout",
     "output_type": "stream",
     "text": [
      "Size:  1   n_hidden:  [20]\n"
     ]
    },
    {
     "name": "stderr",
     "output_type": "stream",
     "text": [
      "100%|██████████| 2/2 [00:05<00:00,  2.75s/it]"
     ]
    },
    {
     "name": "stdout",
     "output_type": "stream",
     "text": [
      "28481 59 24\n",
      "7 Double Layer Neural\n",
      "AUC:  0.6415144038278715\n",
      "F1:  0.4096385542168675\n"
     ]
    },
    {
     "name": "stderr",
     "output_type": "stream",
     "text": [
      "\n"
     ]
    },
    {
     "data": {
      "image/png": "[encoded data removed]",
      "text/plain": [
       "<Figure size 432x288 with 1 Axes>"
      ]
     },
     "metadata": {
      "needs_background": "light"
     },
     "output_type": "display_data"
    },
    {
     "name": "stderr",
     "output_type": "stream",
     "text": [
      "\r",
      "  0%|          | 0/2 [00:00<?, ?it/s]"
     ]
    },
    {
     "name": "stdout",
     "output_type": "stream",
     "text": [
      "Size:  1   n_hidden:  [20]\n"
     ]
    },
    {
     "name": "stderr",
     "output_type": "stream",
     "text": [
      "100%|██████████| 2/2 [00:06<00:00,  3.41s/it]"
     ]
    },
    {
     "name": "stdout",
     "output_type": "stream",
     "text": [
      "28481 14 24\n",
      "7 DROP Double Layer Neural\n",
      "AUC:  0.5948631118013126\n",
      "F1:  0.631578947368421\n"
     ]
    },
    {
     "name": "stderr",
     "output_type": "stream",
     "text": [
      "\n"
     ]
    },
    {
     "data": {
      "image/png": "[encoded data removed]",
      "text/plain": [
       "<Figure size 432x288 with 1 Axes>"
      ]
     },
     "metadata": {
      "needs_background": "light"
     },
     "output_type": "display_data"
    },
    {
     "name": "stdout",
     "output_type": "stream",
     "text": [
      "8 Random Forest\n",
      "AUC:  0.8161642932465007\n",
      "F1:  0.8421052631578948\n"
     ]
    },
    {
     "data": {
      "image/png": "[encoded data removed]",
      "text/plain": [
       "<Figure size 432x288 with 1 Axes>"
      ]
     },
     "metadata": {
      "needs_background": "light"
     },
     "output_type": "display_data"
    },
    {
     "name": "stderr",
     "output_type": "stream",
     "text": [
      "\r",
      "  0%|          | 0/2 [00:00<?, ?it/s]"
     ]
    },
    {
     "name": "stdout",
     "output_type": "stream",
     "text": [
      "Size:  1   n_hidden:  [20]\n"
     ]
    },
    {
     "name": "stderr",
     "output_type": "stream",
     "text": [
      "100%|██████████| 2/2 [00:05<00:00,  2.86s/it]"
     ]
    },
    {
     "name": "stdout",
     "output_type": "stream",
     "text": [
      "28480 26 33\n",
      "8 Double Layer Neural\n",
      "AUC:  0.8268770065015683\n",
      "F1:  0.8135593220338984\n"
     ]
    },
    {
     "name": "stderr",
     "output_type": "stream",
     "text": [
      "\n"
     ]
    },
    {
     "data": {
      "image/png": "[encoded data removed]",
      "text/plain": [
       "<Figure size 432x288 with 1 Axes>"
      ]
     },
     "metadata": {
      "needs_background": "light"
     },
     "output_type": "display_data"
    },
    {
     "name": "stderr",
     "output_type": "stream",
     "text": [
      "\r",
      "  0%|          | 0/2 [00:00<?, ?it/s]"
     ]
    },
    {
     "name": "stdout",
     "output_type": "stream",
     "text": [
      "Size:  1   n_hidden:  [20]\n"
     ]
    },
    {
     "name": "stderr",
     "output_type": "stream",
     "text": [
      "100%|██████████| 2/2 [00:06<00:00,  3.28s/it]"
     ]
    },
    {
     "name": "stdout",
     "output_type": "stream",
     "text": [
      "28480 23 33\n",
      "8 DROP Double Layer Neural\n",
      "AUC:  0.7860081817477271\n",
      "F1:  0.7857142857142856\n"
     ]
    },
    {
     "name": "stderr",
     "output_type": "stream",
     "text": [
      "\n"
     ]
    },
    {
     "data": {
      "image/png": "[encoded data removed]",
      "text/plain": [
       "<Figure size 432x288 with 1 Axes>"
      ]
     },
     "metadata": {
      "needs_background": "light"
     },
     "output_type": "display_data"
    },
    {
     "name": "stdout",
     "output_type": "stream",
     "text": [
      "9 Random Forest\n",
      "AUC:  0.8273273886419504\n",
      "F1:  0.8043478260869565\n"
     ]
    },
    {
     "data": {
      "image/png": "[encoded data removed]",
      "text/plain": [
       "<Figure size 432x288 with 1 Axes>"
      ]
     },
     "metadata": {
      "needs_background": "light"
     },
     "output_type": "display_data"
    },
    {
     "name": "stderr",
     "output_type": "stream",
     "text": [
      "\r",
      "  0%|          | 0/2 [00:00<?, ?it/s]"
     ]
    },
    {
     "name": "stdout",
     "output_type": "stream",
     "text": [
      "Size:  1   n_hidden:  [20]\n"
     ]
    },
    {
     "name": "stderr",
     "output_type": "stream",
     "text": [
      "100%|██████████| 2/2 [00:05<00:00,  2.84s/it]"
     ]
    },
    {
     "name": "stdout",
     "output_type": "stream",
     "text": [
      "28480 36 53\n",
      "9 Double Layer Neural\n",
      "AUC:  0.8314936209013678\n",
      "F1:  0.8089887640449438\n"
     ]
    },
    {
     "name": "stderr",
     "output_type": "stream",
     "text": [
      "\n"
     ]
    },
    {
     "data": {
      "image/png": "[encoded data removed]",
      "text/plain": [
       "<Figure size 432x288 with 1 Axes>"
      ]
     },
     "metadata": {
      "needs_background": "light"
     },
     "output_type": "display_data"
    },
    {
     "name": "stderr",
     "output_type": "stream",
     "text": [
      "\r",
      "  0%|          | 0/2 [00:00<?, ?it/s]"
     ]
    },
    {
     "name": "stdout",
     "output_type": "stream",
     "text": [
      "Size:  1   n_hidden:  [20]\n"
     ]
    },
    {
     "name": "stderr",
     "output_type": "stream",
     "text": [
      "100%|██████████| 2/2 [00:06<00:00,  3.26s/it]"
     ]
    },
    {
     "name": "stdout",
     "output_type": "stream",
     "text": [
      "28480 34 53\n",
      "9 DROP Double Layer Neural\n",
      "AUC:  0.7966716552271847\n",
      "F1:  0.7586206896551724\n"
     ]
    },
    {
     "name": "stderr",
     "output_type": "stream",
     "text": [
      "\n"
     ]
    },
    {
     "data": {
      "image/png": "[encoded data removed]",
      "text/plain": [
       "<Figure size 432x288 with 1 Axes>"
      ]
     },
     "metadata": {
      "needs_background": "light"
     },
     "output_type": "display_data"
    },
    {
     "name": "stdout",
     "output_type": "stream",
     "text": [
      "10 Random Forest\n",
      "AUC:  0.6676118343074474\n",
      "F1:  0.7317073170731707\n"
     ]
    },
    {
     "data": {
      "image/png": "[encoded data removed]",
      "text/plain": [
       "<Figure size 432x288 with 1 Axes>"
      ]
     },
     "metadata": {
      "needs_background": "light"
     },
     "output_type": "display_data"
    },
    {
     "name": "stderr",
     "output_type": "stream",
     "text": [
      "\r",
      "  0%|          | 0/2 [00:00<?, ?it/s]"
     ]
    },
    {
     "name": "stdout",
     "output_type": "stream",
     "text": [
      "Size:  1   n_hidden:  [20]\n"
     ]
    },
    {
     "name": "stderr",
     "output_type": "stream",
     "text": [
      "100%|██████████| 2/2 [00:05<00:00,  2.84s/it]"
     ]
    },
    {
     "name": "stdout",
     "output_type": "stream",
     "text": [
      "28480 19 22\n",
      "10 Double Layer Neural\n",
      "AUC:  0.5982903064009998\n",
      "F1:  0.6829268292682926\n"
     ]
    },
    {
     "name": "stderr",
     "output_type": "stream",
     "text": [
      "\n"
     ]
    },
    {
     "data": {
      "image/png": "[encoded data removed]",
      "text/plain": [
       "<Figure size 432x288 with 1 Axes>"
      ]
     },
     "metadata": {
      "needs_background": "light"
     },
     "output_type": "display_data"
    },
    {
     "name": "stderr",
     "output_type": "stream",
     "text": [
      "\r",
      "  0%|          | 0/2 [00:00<?, ?it/s]"
     ]
    },
    {
     "name": "stdout",
     "output_type": "stream",
     "text": [
      "Size:  1   n_hidden:  [20]\n"
     ]
    },
    {
     "name": "stderr",
     "output_type": "stream",
     "text": [
      "100%|██████████| 2/2 [00:06<00:00,  3.42s/it]"
     ]
    },
    {
     "name": "stdout",
     "output_type": "stream",
     "text": [
      "28480 8 22\n",
      "10 DROP Double Layer Neural\n",
      "AUC:  0.546710381936901\n",
      "F1:  0.4666666666666667\n"
     ]
    },
    {
     "name": "stderr",
     "output_type": "stream",
     "text": [
      "\n"
     ]
    },
    {
     "data": {
      "image/png": "[encoded data removed]",
      "text/plain": [
       "<Figure size 432x288 with 1 Axes>"
      ]
     },
     "metadata": {
      "needs_background": "light"
     },
     "output_type": "display_data"
    }
   ],
   "source": [
    "kf = KFold(n_splits=10, random_state=None, shuffle=False)\n",
    "count = 0\n",
    "for train_index, test_index in kf.split(X):\n",
    "    count = count + 1\n",
    "    X_train, X_test = X[train_index], X[test_index]\n",
    "    y_train, y_test = labels[train_index], labels[test_index]\n",
    "    rfCLF = RandomForestClassifier(n_estimators=5)\n",
    "    rfCLF.fit(X_train, y_train)\n",
    "    y_pred = rfCLF.predict(X_test)\n",
    "    y_proba = rfCLF.predict_proba(X_test)\n",
    "    y_proba = y_proba[:, 1]\n",
    "    metrics(f'{count} Random Forest', y_pred, y_test, y_proba)\n",
    "    PNN2 = PNN(1,[20],2, 0.01, 64, False).fit(X_train,y_train)\n",
    "    y_pred = PNN2.predict(X_test)\n",
    "    y_proba = PNN2.predict_proba(X_test)\n",
    "    y_proba = y_proba[:, 1]\n",
    "    print(len(y_pred), y_pred.sum(), y_test.sum())\n",
    "    metrics(f'{count} Double Layer Neural', y_pred, y_test, y_proba)\n",
    "    PNNDROP = PNN(1,[20],2, 0.001, 64, True).fit(X_train,y_train)\n",
    "    y_pred = PNNDROP.predict(X_test)\n",
    "    y_proba = PNNDROP.predict_proba(X_test)\n",
    "    y_proba = y_proba[:, 1]\n",
    "    print(len(y_pred), y_pred.sum(), y_test.sum())\n",
    "    metrics(f'{count} DROP Double Layer Neural',y_pred, y_test, y_proba)"
   ]
  },
  {
   "cell_type": "code",
   "execution_count": null,
   "id": "057c54e8",
   "metadata": {},
   "outputs": [],
   "source": []
  }
 ],
 "metadata": {
  "kernelspec": {
   "display_name": "Python 3",
   "language": "python",
   "name": "python3"
  },
  "language_info": {
   "codemirror_mode": {
    "name": "ipython",
    "version": 3
   },
   "file_extension": ".py",
   "mimetype": "text/x-python",
   "name": "python",
   "nbconvert_exporter": "python",
   "pygments_lexer": "ipython3",
   "version": "3.8.8"
  }
 },
 "nbformat": 4,
 "nbformat_minor": 5
}
